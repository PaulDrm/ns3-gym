{
 "cells": [
  {
   "cell_type": "markdown",
   "metadata": {},
   "source": [
    "### LLM definition"
   ]
  },
  {
   "cell_type": "code",
   "execution_count": 1,
   "metadata": {},
   "outputs": [],
   "source": [
    "from transformers import AutoTokenizer, AutoModelForTokenClassification, AutoModelForCausalLM, LlamaForCausalLM, AutoTokenizer #, OPTForCausalLM, AutoModelForCausalLM\n",
    "from transformers import StoppingCriteria, StoppingCriteriaList\n",
    "\n",
    "from transformers import GenerationConfig\n",
    "import os\n",
    "import torch\n",
    "\n",
    "def generate_response(\n",
    "    prompt,\n",
    "    model = None,\n",
    "    tokenizer = None,\n",
    "    stopping_criteria = None,\n",
    "    device = 'cuda',\n",
    "    **kwargs,\n",
    "    ):\n",
    "\n",
    "    inputs = tokenizer(prompt, return_tensors=\"pt\")\n",
    "    input_ids = inputs[\"input_ids\"].to(device)\n",
    "    generation_config = GenerationConfig(\n",
    "        **kwargs,\n",
    "    )\n",
    "    with torch.no_grad():\n",
    "        \n",
    "        generation_output = model.generate(\n",
    "            input_ids=input_ids,\n",
    "            generation_config=generation_config,\n",
    "            return_dict_in_generate=True,\n",
    "            stopping_criteria=stopping_criteria,\n",
    "            output_hidden_states= True,\n",
    "            output_scores=True,\n",
    "            #output_attentions=True,\n",
    "        )\n",
    "        s = generation_output.sequences[0]\n",
    "    output = tokenizer.decode(s)\n",
    "\n",
    "    #print(output)\n",
    "\n",
    "    return output, generation_output\n",
    "\n",
    "def load_model(model_name, load_in_8_bit=False): \n",
    "\n",
    "    LOAD_8BIT = load_in_8_bit\n",
    "    BASE_MODEL = model_name\n",
    "    tokenizer = AutoTokenizer.from_pretrained(BASE_MODEL)\n",
    "\n",
    "    model = AutoModelForCausalLM.from_pretrained(\n",
    "            BASE_MODEL,\n",
    "            load_in_8bit=LOAD_8BIT,\n",
    "            torch_dtype=torch.float16,\n",
    "           # device_map=\"auto\",\n",
    "        )\n",
    "\n",
    "    #model.cuda()\n",
    "\n",
    "    if \"openchat\" in model.config._name_or_path:\n",
    "\n",
    "        model.generation_config.pad_token_id = 0\n",
    "\n",
    "    elif \"Qwen\" in model.config._name_or_path:\n",
    "        model.generation_config.pad_token_id = 151643\n",
    "    \n",
    "    if not load_in_8_bit:\n",
    "        model = model.cuda()\n",
    "        \n",
    "    return tokenizer, model "
   ]
  },
  {
   "cell_type": "code",
   "execution_count": 2,
   "metadata": {},
   "outputs": [
    {
     "name": "stderr",
     "output_type": "stream",
     "text": [
      "Special tokens have been added in the vocabulary, make sure the associated word embeddings are fine-tuned or trained.\n",
      "The `load_in_4bit` and `load_in_8bit` arguments are deprecated and will be removed in the future versions. Please, pass a `BitsAndBytesConfig` object in `quantization_config` argument instead.\n",
      "`low_cpu_mem_usage` was None, now set to True since model is quantized.\n"
     ]
    },
    {
     "data": {
      "application/vnd.jupyter.widget-view+json": {
       "model_id": "e21f6cf950eb4c27a0cb720611d7850e",
       "version_major": 2,
       "version_minor": 0
      },
      "text/plain": [
       "Loading checkpoint shards:   0%|          | 0/3 [00:00<?, ?it/s]"
      ]
     },
     "metadata": {},
     "output_type": "display_data"
    },
    {
     "name": "stderr",
     "output_type": "stream",
     "text": [
      "/home/paul/miniconda3/envs/llmagent/lib/python3.12/site-packages/transformers/generation/configuration_utils.py:492: UserWarning: `do_sample` is set to `False`. However, `temperature` is set to `0.5` -- this flag is only used in sample-based generation modes. You should set `do_sample=True` or unset `temperature`. This was detected when initializing the generation config instance, which means the corresponding file may hold incorrect parameterization and should be fixed.\n",
      "  warnings.warn(\n",
      "/home/paul/miniconda3/envs/llmagent/lib/python3.12/site-packages/transformers/generation/configuration_utils.py:492: UserWarning: `do_sample` is set to `False`. However, `temperature` is set to `0.5` -- this flag is only used in sample-based generation modes. You should set `do_sample=True` or unset `temperature`.\n",
      "  warnings.warn(\n"
     ]
    }
   ],
   "source": [
    "#model_name =  \"Nexusflow/Starling-LM-7B-beta\"#\"Qwen/Qwen1.5-14B\"#\" \"h2oai/h2o-danube2-1.8b-base\"#\n",
    "model_name = \"openchat/openchat-3.5-0106\"\n",
    "tokenizer, model = load_model(model_name, load_in_8_bit=True)"
   ]
  },
  {
   "cell_type": "code",
   "execution_count": 3,
   "metadata": {},
   "outputs": [],
   "source": [
    "from transformers import StoppingCriteria, StoppingCriteriaList\n",
    "import torch\n",
    "class StoppingCriteriaSub(StoppingCriteria):\n",
    "    def __init__(self, stops = [],tokenizer= None, encounters=1):\n",
    "        super().__init__()\n",
    "        self.stops = [stop.to(\"cuda\") for stop in stops]\n",
    "        self.tokenizer = tokenizer\n",
    "\n",
    "    def __call__(self, input_ids: torch.LongTensor, scores: torch.FloatTensor):\n",
    "        last_token = input_ids[0][-1]\n",
    "        for stop in self.stops:\n",
    "            if self.tokenizer.decode(stop) == self.tokenizer.decode(last_token):\n",
    "                return True\n",
    "        return False\n",
    "\n",
    "\n",
    "stop_words = ['\"}', '\"}\\n', '\"}\\n\\n']#, \"yes\", \"no\"] #\"\\nYes\"\n",
    "\n",
    "stop_words_ids = [tokenizer(stop_word, return_tensors='pt', add_special_tokens=False)['input_ids'].squeeze() for stop_word in stop_words]\n",
    "\n",
    "stopping_criteria = StoppingCriteriaList([StoppingCriteriaSub(stops=stop_words_ids, tokenizer=tokenizer)])"
   ]
  },
  {
   "cell_type": "code",
   "execution_count": 4,
   "metadata": {},
   "outputs": [],
   "source": [
    "def add_and_pop_if_needed(mylist, item, max_length=8):\n",
    "    # Step 2: Add the new item\n",
    "    mylist.append(item)\n",
    "    \n",
    "    # Step 3: Check the length and remove the first item if needed\n",
    "    if len(mylist) > max_length:\n",
    "        mylist.pop(0)  # This removes the first item\n",
    "\n",
    "### \n",
    "#prompt_states = []\n",
    "#[add_and_pop_if_needed(prompt_states, state, max_length=8) for state in states]\n",
    "#for state in states:\n",
    "#    add_and_pop_if_needed(prompt_states, state, max_length=8)"
   ]
  },
  {
   "cell_type": "code",
   "execution_count": 8,
   "metadata": {},
   "outputs": [],
   "source": [
    "# def parse_output(output, prompt_reason, tokenizer):\n",
    "\n",
    "#     output =output[len(tokenizer.decode(tokenizer.encode(prompt_reason))):]\n",
    "#     return output\n",
    "\n",
    "# prompt_agent_prefix = \"\"\"\n",
    "# You are a telecommunications engineer tasked with selecting the best channel for the next time step based on the given interference map. The map shows the binary interference pattern for 4 channels over the past 8 time steps, where '1' indicates the channel was busy and '0' indicates it was not. Analyze the pattern and choose the channel (A-D) least likely to experience interference in the next time step.\n",
    "# \"\"\"\n",
    "# prompt_agent_suffix= \"\"\"8\tx\tx\tx\tx\n",
    "\n",
    "# Predict the 8th row and then answer with one column that is \"0\" in the form \"Answer: X\".\n",
    "\n",
    "# \"\"\"\n",
    "\n",
    "# interference_map = f\"\"\"\n",
    "# Time Step A B C D \n",
    "# \"\"\"\n",
    "# for i , state in enumerate(prompt_states):\n",
    "\n",
    "#     interference_map += f\"{i+1}\t{state[0]}\t{state[1]}\t{state[2]}\t{state[3]} \\n\"\n",
    "\n",
    "# #print(interference_map)\n",
    "# prompt_agent = prompt_agent_prefix + interference_map + prompt_agent_suffix\n",
    "# #print(prompt_agent)\n",
    "\n",
    "# single_turn_prompt = f\"GPT4 Correct User: {prompt_agent}<|end_of_turn|>GPT4 Correct Assistant: \"\n",
    "\n",
    "# MAX_NEW_TOKENS = 600\n",
    "# generation_args = {\"max_new_tokens\":MAX_NEW_TOKENS,\n",
    "#             \"do_sample\": True, \n",
    "#             \"num_beams\" : 1, \n",
    "#             \"num_return_sequences\" : 1, \n",
    "#             \"temperature\": 0.1,# 0.8, \n",
    "#             \"top_p\": 0.95,\n",
    "#         #  \"min_new_tokens\": 256, \n",
    "#         #\"no_repeat_ngram_size\": 12, \n",
    "#         #  \"begin_suppress_tokens\": [2], \n",
    "#             }\n",
    "# response_text = generate_response(single_turn_prompt, model, tokenizer,**generation_args)\n",
    "\n",
    "\n",
    "# output = parse_output(response_text[0], single_turn_prompt, tokenizer)\n",
    "# #print(\"Response:\", response_text[0])\n",
    "# print(output)\n"
   ]
  },
  {
   "cell_type": "code",
   "execution_count": 9,
   "metadata": {},
   "outputs": [
    {
     "name": "stdout",
     "output_type": "stream",
     "text": [
      "GPT4 Correct User: \n",
      "    Sequence 1:\n",
      "    Time Step Channel A Channel B Channel C Channel D\n",
      "    1| 1 1 0 0\n",
      "    2| 1 1 0 0\n",
      "    3| 0 0 1 1\n",
      "    4| 0 0 1 1\n",
      "    5| 1 1 0 0<|end_of_turn|> GPT4 Correct Assistant: {\"next_row\": \"1 1 0 0\"}<|end_of_turn|> GPT4 Correct User: \n",
      "    Time Step Channel A Channel B Channel C Channel D\n",
      "1\t1\t0\t0\t0 \n",
      "2\t0\t1\t0\t0 \n",
      "3\t0\t0\t1\t0 \n",
      "4\t0\t0\t0\t1 \n",
      "<|end_of_turn|>GPT4 Correct Assistant: {\"next_row\": \"\n",
      "LLM output: 1 0 0 0\"}<|end_of_turn|>\n"
     ]
    },
    {
     "data": {
      "text/plain": [
       "1"
      ]
     },
     "execution_count": 9,
     "metadata": {},
     "output_type": "execute_result"
    }
   ],
   "source": [
    "import re\n",
    "import json\n",
    "\n",
    "def parse_output(output, prompt_reason, tokenizer):\n",
    "\n",
    "    output =output[len(tokenizer.decode(tokenizer.encode(prompt_reason))):]\n",
    "    return output\n",
    "\n",
    "def extract_answer(output, pattern=  r\"(.*?)(?:answer:)(.*?)(?=\\r?\\n|$)\"): \n",
    "\n",
    "    ## Checks if \"FINAL ANSWER\" is found in the output\n",
    "    #pattern = r\"(.*?)(?:answer:)(.*?)(?=\\r?\\n|$)\"\n",
    "    match = re.search(pattern, output, re.DOTALL | re.IGNORECASE)\n",
    "\n",
    "    if match:\n",
    "        matched_text = match.group(0)\n",
    "        matched_text = matched_text.replace(\"<|end_of_turn|>\", \"\")\n",
    "        matched_text = matched_text.strip()\n",
    "    else:\n",
    "        print(\"______\")\n",
    "        print(output)\n",
    "        print(\"______\")\n",
    "    return matched_text\n",
    "\n",
    "def add_and_pop_if_needed(mylist, item, max_length=8):\n",
    "    # Step 2: Add the new item\n",
    "    mylist.append(item)\n",
    "    \n",
    "    # Step 3: Check the length and remove the first item if needed\n",
    "    if len(mylist) > max_length:\n",
    "        mylist.pop(0)  # This removes the first item\n",
    "\n",
    "def load_as_json(text):\n",
    "    \"\"\"\n",
    "    validate and return given text as json\n",
    "    \"\"\"\n",
    "\n",
    "    try:\n",
    "        return json.loads(text)\n",
    "    except ValueError as e:\n",
    "        print(\"______\")\n",
    "        print(text)\n",
    "        print(\"______\")\n",
    "        warnings.warn(f\"Invalid json: {e}\")\n",
    "\n",
    "    return {}\n",
    "\n",
    "def predict_next_action(prompt_states, model, tokenizer):\n",
    "    \n",
    "    # ## Three-shot examples:\n",
    "    # pattern_1= \"\"\"What is the pattern for the next step:\n",
    "    # Time Step Channel A Channel B Channel C Channel D\n",
    "    # 1 0 1 0 0\n",
    "    # 2 0 0 1 0\n",
    "    # 3 0 0 0 1\n",
    "    # 4 1 0 0 0\n",
    "    # 5 0 1 0 0\n",
    "    # {\"next_pattern\": \"0 0 1 0\"}\n",
    "    # \"\"\"\n",
    "    # pattern_2 = \"\"\"Time Step Channel A Channel B Channel C Channel D\n",
    "    # 1\t1\t1\t0\t0\n",
    "    # 2\t1\t1\t0\t0\n",
    "    # 3\t0\t0\t1\t1\n",
    "    # 4\t0\t0\t1\t1\n",
    "    # 5\t1\t1\t0\t0\n",
    "    # {\"next_pattern\": \"1 1 0 0\"}\n",
    "    # \"\"\"\n",
    "\n",
    "    # pattern_3 = \"\"\"Time Step Channel A Channel B Channel C Channel D\n",
    "    # 1 0 1 0 1\n",
    "    # 2 1 0 1 0\n",
    "    # 3 0 0 0 1\n",
    "    # {\"next_pattern\": \"1 0 1 0\"}\"\"\"\n",
    "\n",
    "    pattern_1 =\"\"\"\n",
    "    Sequence 1:\n",
    "    Time Step Channel A Channel B Channel C Channel D\n",
    "    1| 1 1 0 0\n",
    "    2| 1 1 0 0\n",
    "    3| 0 0 1 1\n",
    "    4| 0 0 1 1\n",
    "    5| 1 1 0 0\"\"\"\n",
    "    answer_1 = \"\"\"{\"next_row\": \"1 1 0 0\"}\"\"\"\n",
    "    \n",
    "    # prompt = \"\"\"\n",
    "    # Sequence 2:\n",
    "    # Time Step| Channel A Channel B Channel C Channel D\n",
    "    # 1| 0 1 0 0\n",
    "    # 2| 0 0 1 0\n",
    "    # 3| 0 0 0 1\n",
    "    # 4| 1 0 0 0\n",
    "    # 5| 0 1 0 0\n",
    "    # 6| 0 0 1 0\n",
    "    # 7| 0 0 0 1\n",
    "    # 8| 1 0 0 0\n",
    "    # 9| 0 1 0 0\n",
    "    # 10| 0 0 1 0\n",
    "    # 11| 0 0 0 1\n",
    "    # 12| 1 0 0 0\n",
    "    # 13| 0 1 0 0\n",
    "    # \"\"\"\n",
    "\n",
    "\n",
    "    ## Assemble the interference map at current time step \n",
    "    interference_map = f\"\"\"\n",
    "    Time Step Channel A Channel B Channel C Channel D\\n\"\"\"\n",
    "    for i , state in enumerate(prompt_states):\n",
    "\n",
    "        interference_map += f\"{i+1}\t{state[0]}\t{state[1]}\t{state[2]}\t{state[3]} \\n\"\n",
    "\n",
    "    #print(interference_map)\n",
    "    #prompt_agent = prompt_agent_prefix + interference_map + prompt_agent_suffix\n",
    "    prompt = interference_map #+ prompt_agent_suffix\n",
    "    #print(interference_map)\n",
    "\n",
    "    #single_turn_prompt = f\"GPT4 Correct User: {prompt_agent}<|end_of_turn|>GPT4 Correct Assistant: \"\n",
    "    #multi_turn_prompt = f'GPT4 Correct User: START {pattern_1} END<|end_of_turn|>GPT4 Correct Assistant: {response_1}<|end_of_turn|>GPT4 Correct User: START {pattern_2} END<|end_of_turn|>GPT4 Correct Assistant: {response_2}<|end_of_turn|>GPT4 Correct User: START {prompt_agent} END<|end_of_turn|>GPT4 Correct Assistant: {{\"predict\"'\n",
    "    #multi_turn_prompt = f'GPT4 Correct User:{prompt_agent_prefix} {pattern_1}<|end_of_turn|>GPT4 Correct Assistant: {response_1}<|end_of_turn|>GPT4 Correct User: {pattern_2}<|end_of_turn|>GPT4 Correct Assistant: {response_2}<|end_of_turn|>GPT4 Correct User: {prompt_agent}<|end_of_turn|>GPT4 Correct Assistant: {{\"predict\"'\n",
    "    #multi_turn_prompt = f\"{pattern_1}\\n{pattern_2}\\n{pattern_3}\\n{prompt_agent}\"\n",
    "    multi_turn_prompt = f\"GPT4 Correct User: {pattern_1}<|end_of_turn|> GPT4 Correct Assistant: {answer_1}<|end_of_turn|> GPT4 Correct User: {prompt}<|end_of_turn|>\"+'GPT4 Correct Assistant: {\"next_row\": \"'\n",
    "\n",
    "    #print(multi_turn_prompt)\n",
    "    MAX_NEW_TOKENS = 20\n",
    "    generation_args = {\"max_new_tokens\":MAX_NEW_TOKENS,\n",
    "                \"do_sample\": True, \n",
    "                \"num_beams\" : 1, \n",
    "                \"num_return_sequences\" : 1, \n",
    "                \"temperature\": 0.1,# 0.8, \n",
    "                \"top_p\": 0.95,\n",
    "                #\"min_new_tokens\": 256, \n",
    "                #\"no_repeat_ngram_size\": 12, \n",
    "                #\"begin_suppress_tokens\": [2], \n",
    "                }\n",
    "    #response_text = generate_response(single_turn_prompt, model, tokenizer,**generation_args)\n",
    "    prompt = multi_turn_prompt + '{\"next_row\": \"'\n",
    "\n",
    "    print(prompt)\n",
    "    response_text = generate_response(prompt, model, tokenizer,**generation_args)\n",
    "    #print(prompt)\n",
    "    output = parse_output(response_text[0], prompt, tokenizer)\n",
    "    #print(\"Response:\", response_text[0])\n",
    "\n",
    "    print(\"LLM output:\" , output)\n",
    "    #output = '{\"predict\"'+output\n",
    "    output = '{\"next_row\": \"'+output\n",
    "    #print(output)\n",
    "    pattern = r'\\{\"predict\".*?\\}'\n",
    "    pattern = r'\\{\"next_row\".*?\\}'\n",
    "    matched_output = extract_answer(output, pattern)\n",
    "    #print(matched_output)\n",
    "    matched_output = load_as_json(matched_output)\n",
    "    #print(matched_output)\n",
    "\n",
    "    number_sequence = matched_output[\"next_row\"]\n",
    "    # Step 2: Split the sequence into an array\n",
    "    number_array = number_sequence.split(' ')\n",
    "    # Step 3: Convert each element to an integer (optional)\n",
    "    number_array_int = [int(num) for num in number_array]\n",
    "    # Find the index of an element that is zero\n",
    "    zero_index = number_array_int.index(0)\n",
    "    action = zero_index\n",
    "\n",
    "    #mapping = {\"A\":0, \"B\":1, \"C\":2, \"D\":3}\n",
    "    #action = mapping[matched_output['channel']]\n",
    "    return action\n",
    "prompt_states = [[1, 0, 0, 0],\n",
    " [0, 1, 0, 0],\n",
    " [0, 0, 1, 0],\n",
    "[0, 0, 0, 1],\n",
    "# [1, 0, 0, 0],\n",
    "#  [0, 1, 0, 0],\n",
    "#  [0, 0, 1, 0],\n",
    "# [0, 0, 0, 1]\n",
    "]\n",
    "predict_next_action(prompt_states, model, tokenizer)"
   ]
  },
  {
   "cell_type": "code",
   "execution_count": null,
   "metadata": {},
   "outputs": [],
   "source": [
    "LLM output: 1 0 0 0\"}\"}<|end_of_turn|>"
   ]
  },
  {
   "cell_type": "code",
   "execution_count": 35,
   "metadata": {},
   "outputs": [],
   "source": [
    "import numpy as np\n",
    "number_sequence = {\"predict\" : \"1 0 0 0\", \"channel\" : \"A\"}\n"
   ]
  },
  {
   "cell_type": "code",
   "execution_count": 26,
   "metadata": {},
   "outputs": [
    {
     "name": "stdout",
     "output_type": "stream",
     "text": [
      "{\"predict\" : \"1 0 0 0\", \"channel\" : \"A\"}\n",
      "\\{\"predict\".*?\\}\n",
      "<re.Match object; span=(0, 40), match='{\"predict\" : \"1 0 0 0\", \"channel\" : \"A\"}'>\n"
     ]
    },
    {
     "data": {
      "text/plain": [
       "'{\"predict\" : \"1 0 0 0\", \"channel\" : \"A\"}'"
      ]
     },
     "execution_count": 26,
     "metadata": {},
     "output_type": "execute_result"
    }
   ],
   "source": [
    "sting = \"\"\"{\"predict\" : \"1 0 0 0\", \"channel\" : \"A\"}\n",
    "\n",
    "Based on the given time steps, it appears that the pattern in channel A repeats every 4 steps. The pattern for channel A is 1, 0, 0, 0. Therefore, at time step 9, the value for channel A would be 1.<|end_of_turn|>\"\"\"\n",
    "\n",
    "pattern = r'\\{\"predict\".*?\\}'\n",
    "match = re.search(pattern, sting, re.DOTALL | re.IGNORECASE)\n",
    "\n",
    "if match:\n",
    "    matched_text = match.group(0)\n",
    "\n",
    "print(matched_text)\n",
    "extract_answer(sting, pattern=pattern)"
   ]
  },
  {
   "cell_type": "code",
   "execution_count": 65,
   "metadata": {},
   "outputs": [],
   "source": [
    "#states = [state.squeeze() for state in states]\n",
    "#states"
   ]
  },
  {
   "cell_type": "markdown",
   "metadata": {},
   "source": [
    "### Environment"
   ]
  },
  {
   "cell_type": "code",
   "execution_count": null,
   "metadata": {},
   "outputs": [],
   "source": [
    "import gym\n",
    "from ns3gym import ns3env\n",
    "from wurlitzer import pipes\n",
    "\n",
    "# Redirect the output of the ns3gym environment creation\n",
    "#with pipes() as (out, err):\n",
    "env = gym.make('ns3-v0')\n",
    "\n",
    "# Your code that uses the ns3gym environment goes here\n",
    "print(\"ns3gym environment created successfully!\")"
   ]
  },
  {
   "cell_type": "markdown",
   "metadata": {},
   "source": [
    "### function"
   ]
  },
  {
   "cell_type": "code",
   "execution_count": 1,
   "metadata": {},
   "outputs": [],
   "source": [
    "import numpy as np\n",
    "\n",
    "\n",
    "#    state = env.reset()\n",
    "    \n",
    "#    state = np.reshape(state, [1, s_size])\n",
    "    \n",
    "def run_episode(env, model, tokenizer, max_env_steps=40, warm_up=20, max_history_length=20, random=False):\n",
    "    \n",
    "    if random == True:\n",
    "        print(f\"Running random run\")\n",
    "    \n",
    "    else:\n",
    "        print(f\"Running episode for max history {max_history_length} and warm-up steps {warm_up}...\")\n",
    "\n",
    "    # Initialize the rewards and time histories\n",
    "    time_history = []\n",
    "    reward_history = []\n",
    "\n",
    "    total_steps = max_env_steps # warm_up\n",
    "\n",
    "    # Setting environment's maximum steps\n",
    "    env._max_episode_steps = total_steps\n",
    "    \n",
    "    # Get the action and observation space sizes\n",
    "    s_size = env.observation_space.shape[0]\n",
    "    a_size = env.action_space.n\n",
    "\n",
    "    #with pipes() as (out, err):\n",
    "    state = env.reset()\n",
    "\n",
    "    state = np.reshape(state, [1, s_size])\n",
    "    rewardsum = 0\n",
    "    states = []\n",
    "\n",
    "    # Initialize states history\n",
    "    add_and_pop_if_needed(states, state.squeeze(), max_length=max_history_length)\n",
    "\n",
    "    for time in range(total_steps):\n",
    "        print(\"\\n\")\n",
    "        print(\"Time: \", time)\n",
    "        if random or time < warm_up:\n",
    "            action = np.random.randint(a_size)\n",
    "            print(\"Action: \", action) if time < warm_up else None\n",
    "        else:\n",
    "            try:\n",
    "                action = predict_next_action(states, model, tokenizer)\n",
    "                print(\"LLM decision: \", action)\n",
    "            except:\n",
    "                print(\"Fallback to random action\")\n",
    "                action = np.random.randint(a_size)\n",
    "        print(\"Passing action: \", action)\n",
    "        next_state, reward, done, _ = env.step(action)\n",
    "        print(\"next_state: \", next_state, \" reward: \", reward)\n",
    "        add_and_pop_if_needed(states, next_state.squeeze(), max_length=max_history_length)\n",
    "        if time >= warm_up:\n",
    "            rewardsum += reward\n",
    "            \n",
    "        print(\"__________________\")\n",
    "        if done:\n",
    "            print(f\"Time: {time}, Reward: {rewardsum}\")\n",
    "            #break\n",
    "\n",
    "        #epsilon = max(epsilon * epsilon_decay, epsilon_min)  # Update epsilon\n",
    "        time_history.append(time)\n",
    "        reward_history.append(rewardsum)\n",
    "\n",
    "    return time_history, reward_history\n",
    "\n",
    "\n",
    "warm_ups = [0, 10, 20] #0,10,\n",
    "max_lengths = [0, 10, 20] #0,10, #,30,40\n",
    "\n",
    "results = []\n",
    "random = False\n",
    "for warm_up in warm_ups:\n",
    "    for max_length in max_lengths:\n",
    "        time_history, reward_history = run_episode(env, model, tokenizer, warm_up=warm_up, max_history_length=max_length, random=random)\n",
    "        results.append({\"warm_up\": warm_up, \"max_length\": max_length, \"time_history\": time_history, \"reward_history\": reward_history, \"random\": random})\n",
    "\n",
    "\n",
    "random = True\n",
    "for i in range(3):\n",
    "        time_history, reward_history = run_episode(env, model, tokenizer, warm_up=warm_up, max_history_length=max_length, random=random)\n",
    "        results.append({\"warm_up\": 0, \"max_length\": 0, \"time_history\": time_history, \"reward_history\": reward_history, \"random\": True})\n"
   ]
  },
  {
   "cell_type": "code",
   "execution_count": 10,
   "metadata": {},
   "outputs": [],
   "source": [
    "print(\"Hello\")"
   ]
  },
  {
   "cell_type": "code",
   "execution_count": 38,
   "metadata": {},
   "outputs": [
    {
     "data": {
      "text/html": [
       "<div>\n",
       "<style scoped>\n",
       "    .dataframe tbody tr th:only-of-type {\n",
       "        vertical-align: middle;\n",
       "    }\n",
       "\n",
       "    .dataframe tbody tr th {\n",
       "        vertical-align: top;\n",
       "    }\n",
       "\n",
       "    .dataframe thead th {\n",
       "        text-align: right;\n",
       "    }\n",
       "</style>\n",
       "<table border=\"1\" class=\"dataframe\">\n",
       "  <thead>\n",
       "    <tr style=\"text-align: right;\">\n",
       "      <th></th>\n",
       "      <th>warm_up</th>\n",
       "      <th>max_length</th>\n",
       "      <th>time_history</th>\n",
       "      <th>reward_history</th>\n",
       "      <th>random</th>\n",
       "    </tr>\n",
       "  </thead>\n",
       "  <tbody>\n",
       "    <tr>\n",
       "      <th>0</th>\n",
       "      <td>0</td>\n",
       "      <td>0</td>\n",
       "      <td>[0, 1, 2, 3, 4, 5, 6, 7, 8, 9, 10, 11, 12, 13,...</td>\n",
       "      <td>[1.0, 0.0, 1.0, 2.0, 3.0, 2.0, 3.0, 4.0, 5.0, ...</td>\n",
       "      <td>False</td>\n",
       "    </tr>\n",
       "    <tr>\n",
       "      <th>1</th>\n",
       "      <td>0</td>\n",
       "      <td>10</td>\n",
       "      <td>[0, 1, 2, 3, 4, 5, 6, 7, 8, 9, 10, 11, 12, 13,...</td>\n",
       "      <td>[-1.0, 0.0, 1.0, 2.0, 1.0, 2.0, 3.0, 4.0, 3.0,...</td>\n",
       "      <td>False</td>\n",
       "    </tr>\n",
       "    <tr>\n",
       "      <th>2</th>\n",
       "      <td>0</td>\n",
       "      <td>20</td>\n",
       "      <td>[0, 1, 2, 3, 4, 5, 6, 7, 8, 9, 10, 11, 12, 13,...</td>\n",
       "      <td>[-1.0, 0.0, 1.0, 2.0, 1.0, 2.0, 3.0, 4.0, 3.0,...</td>\n",
       "      <td>False</td>\n",
       "    </tr>\n",
       "    <tr>\n",
       "      <th>3</th>\n",
       "      <td>10</td>\n",
       "      <td>0</td>\n",
       "      <td>[0, 1, 2, 3, 4, 5, 6, 7, 8, 9, 10, 11, 12, 13,...</td>\n",
       "      <td>[0, 0, 0, 0, 0, 0, 0, 0, 0, 0, 1.0, 2.0, 3.0, ...</td>\n",
       "      <td>False</td>\n",
       "    </tr>\n",
       "    <tr>\n",
       "      <th>4</th>\n",
       "      <td>10</td>\n",
       "      <td>10</td>\n",
       "      <td>[0, 1, 2, 3, 4, 5, 6, 7, 8, 9, 10, 11, 12, 13,...</td>\n",
       "      <td>[0, 0, 0, 0, 0, 0, 0, 0, 0, 0, 1.0, 0.0, 1.0, ...</td>\n",
       "      <td>False</td>\n",
       "    </tr>\n",
       "    <tr>\n",
       "      <th>5</th>\n",
       "      <td>10</td>\n",
       "      <td>20</td>\n",
       "      <td>[0, 1, 2, 3, 4, 5, 6, 7, 8, 9, 10, 11, 12, 13,...</td>\n",
       "      <td>[0, 0, 0, 0, 0, 0, 0, 0, 0, 0, 1.0, 2.0, 1.0, ...</td>\n",
       "      <td>False</td>\n",
       "    </tr>\n",
       "    <tr>\n",
       "      <th>6</th>\n",
       "      <td>20</td>\n",
       "      <td>0</td>\n",
       "      <td>[0, 1, 2, 3, 4, 5, 6, 7, 8, 9, 10, 11, 12, 13,...</td>\n",
       "      <td>[0, 0, 0, 0, 0, 0, 0, 0, 0, 0, 0, 0, 0, 0, 0, ...</td>\n",
       "      <td>False</td>\n",
       "    </tr>\n",
       "    <tr>\n",
       "      <th>7</th>\n",
       "      <td>20</td>\n",
       "      <td>10</td>\n",
       "      <td>[0, 1, 2, 3, 4, 5, 6, 7, 8, 9, 10, 11, 12, 13,...</td>\n",
       "      <td>[0, 0, 0, 0, 0, 0, 0, 0, 0, 0, 0, 0, 0, 0, 0, ...</td>\n",
       "      <td>False</td>\n",
       "    </tr>\n",
       "    <tr>\n",
       "      <th>8</th>\n",
       "      <td>20</td>\n",
       "      <td>20</td>\n",
       "      <td>[0, 1, 2, 3, 4, 5, 6, 7, 8, 9, 10, 11, 12, 13,...</td>\n",
       "      <td>[0, 0, 0, 0, 0, 0, 0, 0, 0, 0, 0, 0, 0, 0, 0, ...</td>\n",
       "      <td>False</td>\n",
       "    </tr>\n",
       "    <tr>\n",
       "      <th>9</th>\n",
       "      <td>0</td>\n",
       "      <td>0</td>\n",
       "      <td>[0, 1, 2, 3, 4, 5, 6, 7, 8, 9, 10, 11, 12, 13,...</td>\n",
       "      <td>[0, 0, 0, 0, 0, 0, 0, 0, 0, 0, 0, 0, 0, 0, 0, ...</td>\n",
       "      <td>True</td>\n",
       "    </tr>\n",
       "    <tr>\n",
       "      <th>10</th>\n",
       "      <td>0</td>\n",
       "      <td>0</td>\n",
       "      <td>[0, 1, 2, 3, 4, 5, 6, 7, 8, 9, 10, 11, 12, 13,...</td>\n",
       "      <td>[0, 0, 0, 0, 0, 0, 0, 0, 0, 0, 0, 0, 0, 0, 0, ...</td>\n",
       "      <td>True</td>\n",
       "    </tr>\n",
       "    <tr>\n",
       "      <th>11</th>\n",
       "      <td>0</td>\n",
       "      <td>0</td>\n",
       "      <td>[0, 1, 2, 3, 4, 5, 6, 7, 8, 9, 10, 11, 12, 13,...</td>\n",
       "      <td>[0, 0, 0, 0, 0, 0, 0, 0, 0, 0, 0, 0, 0, 0, 0, ...</td>\n",
       "      <td>True</td>\n",
       "    </tr>\n",
       "  </tbody>\n",
       "</table>\n",
       "</div>"
      ],
      "text/plain": [
       "    warm_up  max_length                                       time_history  \\\n",
       "0         0           0  [0, 1, 2, 3, 4, 5, 6, 7, 8, 9, 10, 11, 12, 13,...   \n",
       "1         0          10  [0, 1, 2, 3, 4, 5, 6, 7, 8, 9, 10, 11, 12, 13,...   \n",
       "2         0          20  [0, 1, 2, 3, 4, 5, 6, 7, 8, 9, 10, 11, 12, 13,...   \n",
       "3        10           0  [0, 1, 2, 3, 4, 5, 6, 7, 8, 9, 10, 11, 12, 13,...   \n",
       "4        10          10  [0, 1, 2, 3, 4, 5, 6, 7, 8, 9, 10, 11, 12, 13,...   \n",
       "5        10          20  [0, 1, 2, 3, 4, 5, 6, 7, 8, 9, 10, 11, 12, 13,...   \n",
       "6        20           0  [0, 1, 2, 3, 4, 5, 6, 7, 8, 9, 10, 11, 12, 13,...   \n",
       "7        20          10  [0, 1, 2, 3, 4, 5, 6, 7, 8, 9, 10, 11, 12, 13,...   \n",
       "8        20          20  [0, 1, 2, 3, 4, 5, 6, 7, 8, 9, 10, 11, 12, 13,...   \n",
       "9         0           0  [0, 1, 2, 3, 4, 5, 6, 7, 8, 9, 10, 11, 12, 13,...   \n",
       "10        0           0  [0, 1, 2, 3, 4, 5, 6, 7, 8, 9, 10, 11, 12, 13,...   \n",
       "11        0           0  [0, 1, 2, 3, 4, 5, 6, 7, 8, 9, 10, 11, 12, 13,...   \n",
       "\n",
       "                                       reward_history  random  \n",
       "0   [1.0, 0.0, 1.0, 2.0, 3.0, 2.0, 3.0, 4.0, 5.0, ...   False  \n",
       "1   [-1.0, 0.0, 1.0, 2.0, 1.0, 2.0, 3.0, 4.0, 3.0,...   False  \n",
       "2   [-1.0, 0.0, 1.0, 2.0, 1.0, 2.0, 3.0, 4.0, 3.0,...   False  \n",
       "3   [0, 0, 0, 0, 0, 0, 0, 0, 0, 0, 1.0, 2.0, 3.0, ...   False  \n",
       "4   [0, 0, 0, 0, 0, 0, 0, 0, 0, 0, 1.0, 0.0, 1.0, ...   False  \n",
       "5   [0, 0, 0, 0, 0, 0, 0, 0, 0, 0, 1.0, 2.0, 1.0, ...   False  \n",
       "6   [0, 0, 0, 0, 0, 0, 0, 0, 0, 0, 0, 0, 0, 0, 0, ...   False  \n",
       "7   [0, 0, 0, 0, 0, 0, 0, 0, 0, 0, 0, 0, 0, 0, 0, ...   False  \n",
       "8   [0, 0, 0, 0, 0, 0, 0, 0, 0, 0, 0, 0, 0, 0, 0, ...   False  \n",
       "9   [0, 0, 0, 0, 0, 0, 0, 0, 0, 0, 0, 0, 0, 0, 0, ...    True  \n",
       "10  [0, 0, 0, 0, 0, 0, 0, 0, 0, 0, 0, 0, 0, 0, 0, ...    True  \n",
       "11  [0, 0, 0, 0, 0, 0, 0, 0, 0, 0, 0, 0, 0, 0, 0, ...    True  "
      ]
     },
     "execution_count": 38,
     "metadata": {},
     "output_type": "execute_result"
    }
   ],
   "source": [
    "import pandas as pd \n",
    "results = pd.DataFrame(results)\n",
    "results#.head(5)"
   ]
  },
  {
   "cell_type": "code",
   "execution_count": 39,
   "metadata": {},
   "outputs": [
    {
     "data": {
      "image/png": "[encoded data removed]",
      "text/plain": [
       "<Figure size 1000x500 with 1 Axes>"
      ]
     },
     "metadata": {},
     "output_type": "display_data"
    },
    {
     "ename": "",
     "evalue": "",
     "output_type": "error",
     "traceback": [
      "\u001b[1;31mThe Kernel crashed while executing code in the current cell or a previous cell. \n",
      "\u001b[1;31mPlease review the code in the cell(s) to identify a possible cause of the failure. \n",
      "\u001b[1;31mClick <a href='https://aka.ms/vscodeJupyterKernelCrash'>here</a> for more info. \n",
      "\u001b[1;31mView Jupyter <a href='command:jupyter.viewOutput'>log</a> for further details."
     ]
    }
   ],
   "source": [
    "import matplotlib.pyplot as plt\n",
    "\n",
    "# Create a plot\n",
    "plt.figure(figsize=(10, 5))\n",
    "\n",
    "# Calculate the average reward history for random rows\n",
    "random_rows = results[results['random']]\n",
    "if len(random_rows) > 0:\n",
    "    avg_reward_history = random_rows['reward_history'].apply(pd.Series).mean().tolist()\n",
    "    plt.plot(results['time_history'].iloc[0], avg_reward_history, marker='o', linestyle='-', label='Random')\n",
    "\n",
    "# # Calculate the average reward history for non-random rows with the same warm-up and max_length\n",
    "non_random_rows = results[~results['random']]\n",
    "\n",
    "if len(non_random_rows) > 0:\n",
    "    avg_reward_history = non_random_rows.groupby(['warm_up', 'max_length'])['reward_history'].apply(\n",
    "        lambda x: pd.DataFrame(x.tolist()).mean().tolist()\n",
    ")\n",
    "    for (warm_up, max_length), reward_history in avg_reward_history.items():\n",
    "        label = f\"Warm-up: {warm_up}, Max Length: {max_length}\"\n",
    "        plt.plot(results['time_history'].iloc[0], reward_history, marker='o', linestyle='-', label=label)\n",
    "\n",
    "plt.title('Time vs. Reward History')\n",
    "plt.xlabel('Time')\n",
    "plt.ylabel('Reward')\n",
    "plt.grid(True)\n",
    "plt.legend()\n",
    "plt.show()"
   ]
  },
  {
   "cell_type": "code",
   "execution_count": 17,
   "metadata": {},
   "outputs": [],
   "source": [
    "non_random_rows\n",
    "# if len(non_random_rows) > 0:\n",
    "#     avg_reward_history = non_random_rows.groupby(['warm_up', 'max_length'])['reward_history'].apply(\n",
    "#         lambda x: pd.Series(x.tolist()).mean().tolist()\n",
    "#     )\n"
   ]
  },
  {
   "cell_type": "code",
   "execution_count": 26,
   "metadata": {},
   "outputs": [
    {
     "data": {
      "text/plain": [
       "[4.0]"
      ]
     },
     "execution_count": 26,
     "metadata": {},
     "output_type": "execute_result"
    }
   ],
   "source": [
    "results.reward_history[0]"
   ]
  },
  {
   "cell_type": "code",
   "execution_count": 15,
   "metadata": {},
   "outputs": [],
   "source": [
    "print(\"lol\")"
   ]
  },
  {
   "cell_type": "code",
   "execution_count": 29,
   "metadata": {},
   "outputs": [
    {
     "data": {
      "text/plain": [
       "[array([0, 1, 0, 0]),\n",
       " array([0, 0, 1, 0]),\n",
       " array([0, 0, 0, 1]),\n",
       " array([1, 0, 0, 0]),\n",
       " array([0, 1, 0, 0]),\n",
       " array([0, 0, 1, 0]),\n",
       " array([0, 0, 0, 1]),\n",
       " array([1, 0, 0, 0]),\n",
       " array([0, 1, 0, 0]),\n",
       " array([0, 0, 1, 0]),\n",
       " array([0, 0, 0, 1]),\n",
       " array([1, 0, 0, 0]),\n",
       " array([0, 1, 0, 0]),\n",
       " array([0, 0, 1, 0]),\n",
       " array([0, 0, 0, 1]),\n",
       " array([1, 0, 0, 0]),\n",
       " array([0, 1, 0, 0]),\n",
       " array([0, 0, 1, 0]),\n",
       " array([0, 0, 0, 1]),\n",
       " array([1, 0, 0, 0])]"
      ]
     },
     "execution_count": 29,
     "metadata": {},
     "output_type": "execute_result"
    }
   ],
   "source": [
    "states"
   ]
  },
  {
   "cell_type": "code",
   "execution_count": 14,
   "metadata": {},
   "outputs": [
    {
     "data": {
      "text/plain": [
       "[{'warm_up': 0,\n",
       "  'max_length': 0,\n",
       "  'time_history': [49],\n",
       "  'reward_history': [10.0],\n",
       "  'random': True},\n",
       " {'warm_up': 0,\n",
       "  'max_length': 0,\n",
       "  'time_history': [49],\n",
       "  'reward_history': [8.0],\n",
       "  'random': True},\n",
       " {'warm_up': 0,\n",
       "  'max_length': 0,\n",
       "  'time_history': [49],\n",
       "  'reward_history': [8.0],\n",
       "  'random': True}]"
      ]
     },
     "execution_count": 14,
     "metadata": {},
     "output_type": "execute_result"
    }
   ],
   "source": [
    "results"
   ]
  },
  {
   "cell_type": "code",
   "execution_count": 31,
   "metadata": {},
   "outputs": [
    {
     "name": "stdout",
     "output_type": "stream",
     "text": [
      "Observation space:  Box(0, 1, (4,), uint64) uint64\n",
      "Action space:  Discrete(4) 4\n",
      "Got new port for ns3gm interface:  9750\n",
      "Start command:  /home/paul/pauld/projects/satne/llmnetwork/ns-allinone-3.36.1/ns-3.36.1/ns3 run \"interference-pattern --openGymPort=9750 --simSeed=1660217934\"\n",
      "Started ns3 simulation script, Process Id:  60171\n",
      "/usr/bin/cmake -P /home/paul/pauld/projects/satne/llmnetwork/ns-allinone-3.36.1/ns-3.36.1/cmake-cache/CMakeFiles/VerifyGlobs.cmake\n",
      "/usr/bin/cmake -S/home/paul/pauld/projects/satne/llmnetwork/ns-allinone-3.36.1/ns-3.36.1 -B/home/paul/pauld/projects/satne/llmnetwork/ns-allinone-3.36.1/ns-3.36.1/cmake-cache --check-build-system CMakeFiles/Makefile.cmake 0\n",
      "/usr/bin/gmake  -f CMakeFiles/Makefile2 interference-pattern\n",
      "gmake[1]: Entering directory '/home/paul/pauld/projects/satne/llmnetwork/ns-allinone-3.36.1/ns-3.36.1/cmake-cache'\n",
      "/usr/bin/cmake -P /home/paul/pauld/projects/satne/llmnetwork/ns-allinone-3.36.1/ns-3.36.1/cmake-cache/CMakeFiles/VerifyGlobs.cmake\n",
      "/usr/bin/cmake -S/home/paul/pauld/projects/satne/llmnetwork/ns-allinone-3.36.1/ns-3.36.1 -B/home/paul/pauld/projects/satne/llmnetwork/ns-allinone-3.36.1/ns-3.36.1/cmake-cache --check-build-system CMakeFiles/Makefile.cmake 0\n",
      "/usr/bin/cmake -E cmake_progress_start /home/paul/pauld/projects/satne/llmnetwork/ns-allinone-3.36.1/ns-3.36.1/cmake-cache/CMakeFiles 30\n",
      "/usr/bin/gmake  -f CMakeFiles/Makefile2 contrib/opengym/examples/CMakeFiles/interference-pattern.dir/all\n",
      "gmake[2]: Entering directory '/home/paul/pauld/projects/satne/llmnetwork/ns-allinone-3.36.1/ns-3.36.1/cmake-cache'\n",
      "/usr/bin/gmake  -f src/wifi/CMakeFiles/libwifi-obj.dir/build.make src/wifi/CMakeFiles/libwifi-obj.dir/depend\n",
      "gmake[3]: Entering directory '/home/paul/pauld/projects/satne/llmnetwork/ns-allinone-3.36.1/ns-3.36.1/cmake-cache'\n",
      "cd /home/paul/pauld/projects/satne/llmnetwork/ns-allinone-3.36.1/ns-3.36.1/cmake-cache && /usr/bin/cmake -E cmake_depends \"Unix Makefiles\" /home/paul/pauld/projects/satne/llmnetwork/ns-allinone-3.36.1/ns-3.36.1 /home/paul/pauld/projects/satne/llmnetwork/ns-allinone-3.36.1/ns-3.36.1/src/wifi /home/paul/pauld/projects/satne/llmnetwork/ns-allinone-3.36.1/ns-3.36.1/cmake-cache /home/paul/pauld/projects/satne/llmnetwork/ns-allinone-3.36.1/ns-3.36.1/cmake-cache/src/wifi /home/paul/pauld/projects/satne/llmnetwork/ns-allinone-3.36.1/ns-3.36.1/cmake-cache/src/wifi/CMakeFiles/libwifi-obj.dir/DependInfo.cmake --color=\n",
      "gmake[3]: Leaving directory '/home/paul/pauld/projects/satne/llmnetwork/ns-allinone-3.36.1/ns-3.36.1/cmake-cache'\n",
      "/usr/bin/gmake  -f src/wifi/CMakeFiles/libwifi-obj.dir/build.make src/wifi/CMakeFiles/libwifi-obj.dir/build\n",
      "gmake[3]: Entering directory '/home/paul/pauld/projects/satne/llmnetwork/ns-allinone-3.36.1/ns-3.36.1/cmake-cache'\n",
      "gmake[3]: Nothing to be done for 'src/wifi/CMakeFiles/libwifi-obj.dir/build'.\n",
      "gmake[3]: Leaving directory '/home/paul/pauld/projects/satne/llmnetwork/ns-allinone-3.36.1/ns-3.36.1/cmake-cache'\n",
      "/usr/bin/gmake  -f src/core/CMakeFiles/libcore-obj.dir/build.make src/core/CMakeFiles/libcore-obj.dir/depend\n",
      "gmake[3]: Entering directory '/home/paul/pauld/projects/satne/llmnetwork/ns-allinone-3.36.1/ns-3.36.1/cmake-cache'\n",
      "cd /home/paul/pauld/projects/satne/llmnetwork/ns-allinone-3.36.1/ns-3.36.1/cmake-cache && /usr/bin/cmake -E cmake_depends \"Unix Makefiles\" /home/paul/pauld/projects/satne/llmnetwork/ns-allinone-3.36.1/ns-3.36.1 /home/paul/pauld/projects/satne/llmnetwork/ns-allinone-3.36.1/ns-3.36.1/src/core /home/paul/pauld/projects/satne/llmnetwork/ns-allinone-3.36.1/ns-3.36.1/cmake-cache /home/paul/pauld/projects/satne/llmnetwork/ns-allinone-3.36.1/ns-3.36.1/cmake-cache/src/core /home/paul/pauld/projects/satne/llmnetwork/ns-allinone-3.36.1/ns-3.36.1/cmake-cache/src/core/CMakeFiles/libcore-obj.dir/DependInfo.cmake --color=\n",
      "gmake[3]: Leaving directory '/home/paul/pauld/projects/satne/llmnetwork/ns-allinone-3.36.1/ns-3.36.1/cmake-cache'\n",
      "/usr/bin/gmake  -f src/core/CMakeFiles/libcore-obj.dir/build.make src/core/CMakeFiles/libcore-obj.dir/build\n",
      "gmake[3]: Entering directory '/home/paul/pauld/projects/satne/llmnetwork/ns-allinone-3.36.1/ns-3.36.1/cmake-cache'\n",
      "gmake[3]: Nothing to be done for 'src/core/CMakeFiles/libcore-obj.dir/build'.\n",
      "gmake[3]: Leaving directory '/home/paul/pauld/projects/satne/llmnetwork/ns-allinone-3.36.1/ns-3.36.1/cmake-cache'\n",
      "/usr/bin/gmake  -f src/core/CMakeFiles/libcore.dir/build.make src/core/CMakeFiles/libcore.dir/depend\n",
      "gmake[3]: Entering directory '/home/paul/pauld/projects/satne/llmnetwork/ns-allinone-3.36.1/ns-3.36.1/cmake-cache'\n",
      "cd /home/paul/pauld/projects/satne/llmnetwork/ns-allinone-3.36.1/ns-3.36.1/cmake-cache && /usr/bin/cmake -E cmake_depends \"Unix Makefiles\" /home/paul/pauld/projects/satne/llmnetwork/ns-allinone-3.36.1/ns-3.36.1 /home/paul/pauld/projects/satne/llmnetwork/ns-allinone-3.36.1/ns-3.36.1/src/core /home/paul/pauld/projects/satne/llmnetwork/ns-allinone-3.36.1/ns-3.36.1/cmake-cache /home/paul/pauld/projects/satne/llmnetwork/ns-allinone-3.36.1/ns-3.36.1/cmake-cache/src/core /home/paul/pauld/projects/satne/llmnetwork/ns-allinone-3.36.1/ns-3.36.1/cmake-cache/src/core/CMakeFiles/libcore.dir/DependInfo.cmake --color=\n",
      "gmake[3]: Leaving directory '/home/paul/pauld/projects/satne/llmnetwork/ns-allinone-3.36.1/ns-3.36.1/cmake-cache'\n",
      "/usr/bin/gmake  -f src/core/CMakeFiles/libcore.dir/build.make src/core/CMakeFiles/libcore.dir/build\n",
      "gmake[3]: Entering directory '/home/paul/pauld/projects/satne/llmnetwork/ns-allinone-3.36.1/ns-3.36.1/cmake-cache'\n",
      "gmake[3]: Nothing to be done for 'src/core/CMakeFiles/libcore.dir/build'.\n",
      "gmake[3]: Leaving directory '/home/paul/pauld/projects/satne/llmnetwork/ns-allinone-3.36.1/ns-3.36.1/cmake-cache'\n",
      "/usr/bin/gmake  -f src/antenna/CMakeFiles/libantenna-obj.dir/build.make src/antenna/CMakeFiles/libantenna-obj.dir/depend\n",
      "gmake[3]: Entering directory '/home/paul/pauld/projects/satne/llmnetwork/ns-allinone-3.36.1/ns-3.36.1/cmake-cache'\n",
      "cd /home/paul/pauld/projects/satne/llmnetwork/ns-allinone-3.36.1/ns-3.36.1/cmake-cache && /usr/bin/cmake -E cmake_depends \"Unix Makefiles\" /home/paul/pauld/projects/satne/llmnetwork/ns-allinone-3.36.1/ns-3.36.1 /home/paul/pauld/projects/satne/llmnetwork/ns-allinone-3.36.1/ns-3.36.1/src/antenna /home/paul/pauld/projects/satne/llmnetwork/ns-allinone-3.36.1/ns-3.36.1/cmake-cache /home/paul/pauld/projects/satne/llmnetwork/ns-allinone-3.36.1/ns-3.36.1/cmake-cache/src/antenna /home/paul/pauld/projects/satne/llmnetwork/ns-allinone-3.36.1/ns-3.36.1/cmake-cache/src/antenna/CMakeFiles/libantenna-obj.dir/DependInfo.cmake --color=\n",
      "gmake[3]: Leaving directory '/home/paul/pauld/projects/satne/llmnetwork/ns-allinone-3.36.1/ns-3.36.1/cmake-cache'\n",
      "/usr/bin/gmake  -f src/antenna/CMakeFiles/libantenna-obj.dir/build.make src/antenna/CMakeFiles/libantenna-obj.dir/build\n",
      "gmake[3]: Entering directory '/home/paul/pauld/projects/satne/llmnetwork/ns-allinone-3.36.1/ns-3.36.1/cmake-cache'\n",
      "gmake[3]: Nothing to be done for 'src/antenna/CMakeFiles/libantenna-obj.dir/build'.\n",
      "gmake[3]: Leaving directory '/home/paul/pauld/projects/satne/llmnetwork/ns-allinone-3.36.1/ns-3.36.1/cmake-cache'\n",
      "/usr/bin/gmake  -f src/antenna/CMakeFiles/libantenna.dir/build.make src/antenna/CMakeFiles/libantenna.dir/depend\n",
      "gmake[3]: Entering directory '/home/paul/pauld/projects/satne/llmnetwork/ns-allinone-3.36.1/ns-3.36.1/cmake-cache'\n",
      "cd /home/paul/pauld/projects/satne/llmnetwork/ns-allinone-3.36.1/ns-3.36.1/cmake-cache && /usr/bin/cmake -E cmake_depends \"Unix Makefiles\" /home/paul/pauld/projects/satne/llmnetwork/ns-allinone-3.36.1/ns-3.36.1 /home/paul/pauld/projects/satne/llmnetwork/ns-allinone-3.36.1/ns-3.36.1/src/antenna /home/paul/pauld/projects/satne/llmnetwork/ns-allinone-3.36.1/ns-3.36.1/cmake-cache /home/paul/pauld/projects/satne/llmnetwork/ns-allinone-3.36.1/ns-3.36.1/cmake-cache/src/antenna /home/paul/pauld/projects/satne/llmnetwork/ns-allinone-3.36.1/ns-3.36.1/cmake-cache/src/antenna/CMakeFiles/libantenna.dir/DependInfo.cmake --color=\n",
      "gmake[3]: Leaving directory '/home/paul/pauld/projects/satne/llmnetwork/ns-allinone-3.36.1/ns-3.36.1/cmake-cache'\n",
      "/usr/bin/gmake  -f src/antenna/CMakeFiles/libantenna.dir/build.make src/antenna/CMakeFiles/libantenna.dir/build\n",
      "gmake[3]: Entering directory '/home/paul/pauld/projects/satne/llmnetwork/ns-allinone-3.36.1/ns-3.36.1/cmake-cache'\n",
      "gmake[3]: Nothing to be done for 'src/antenna/CMakeFiles/libantenna.dir/build'.\n",
      "gmake[3]: Leaving directory '/home/paul/pauld/projects/satne/llmnetwork/ns-allinone-3.36.1/ns-3.36.1/cmake-cache'\n",
      "/usr/bin/gmake  -f src/stats/CMakeFiles/libstats-obj.dir/build.make src/stats/CMakeFiles/libstats-obj.dir/depend\n",
      "gmake[3]: Entering directory '/home/paul/pauld/projects/satne/llmnetwork/ns-allinone-3.36.1/ns-3.36.1/cmake-cache'\n",
      "cd /home/paul/pauld/projects/satne/llmnetwork/ns-allinone-3.36.1/ns-3.36.1/cmake-cache && /usr/bin/cmake -E cmake_depends \"Unix Makefiles\" /home/paul/pauld/projects/satne/llmnetwork/ns-allinone-3.36.1/ns-3.36.1 /home/paul/pauld/projects/satne/llmnetwork/ns-allinone-3.36.1/ns-3.36.1/src/stats /home/paul/pauld/projects/satne/llmnetwork/ns-allinone-3.36.1/ns-3.36.1/cmake-cache /home/paul/pauld/projects/satne/llmnetwork/ns-allinone-3.36.1/ns-3.36.1/cmake-cache/src/stats /home/paul/pauld/projects/satne/llmnetwork/ns-allinone-3.36.1/ns-3.36.1/cmake-cache/src/stats/CMakeFiles/libstats-obj.dir/DependInfo.cmake --color=\n",
      "gmake[3]: Leaving directory '/home/paul/pauld/projects/satne/llmnetwork/ns-allinone-3.36.1/ns-3.36.1/cmake-cache'\n",
      "/usr/bin/gmake  -f src/stats/CMakeFiles/libstats-obj.dir/build.make src/stats/CMakeFiles/libstats-obj.dir/build\n",
      "gmake[3]: Entering directory '/home/paul/pauld/projects/satne/llmnetwork/ns-allinone-3.36.1/ns-3.36.1/cmake-cache'\n",
      "gmake[3]: Nothing to be done for 'src/stats/CMakeFiles/libstats-obj.dir/build'.\n",
      "gmake[3]: Leaving directory '/home/paul/pauld/projects/satne/llmnetwork/ns-allinone-3.36.1/ns-3.36.1/cmake-cache'\n",
      "/usr/bin/gmake  -f src/stats/CMakeFiles/libstats.dir/build.make src/stats/CMakeFiles/libstats.dir/depend\n",
      "gmake[3]: Entering directory '/home/paul/pauld/projects/satne/llmnetwork/ns-allinone-3.36.1/ns-3.36.1/cmake-cache'\n",
      "cd /home/paul/pauld/projects/satne/llmnetwork/ns-allinone-3.36.1/ns-3.36.1/cmake-cache && /usr/bin/cmake -E cmake_depends \"Unix Makefiles\" /home/paul/pauld/projects/satne/llmnetwork/ns-allinone-3.36.1/ns-3.36.1 /home/paul/pauld/projects/satne/llmnetwork/ns-allinone-3.36.1/ns-3.36.1/src/stats /home/paul/pauld/projects/satne/llmnetwork/ns-allinone-3.36.1/ns-3.36.1/cmake-cache /home/paul/pauld/projects/satne/llmnetwork/ns-allinone-3.36.1/ns-3.36.1/cmake-cache/src/stats /home/paul/pauld/projects/satne/llmnetwork/ns-allinone-3.36.1/ns-3.36.1/cmake-cache/src/stats/CMakeFiles/libstats.dir/DependInfo.cmake --color=\n",
      "gmake[3]: Leaving directory '/home/paul/pauld/projects/satne/llmnetwork/ns-allinone-3.36.1/ns-3.36.1/cmake-cache'\n",
      "/usr/bin/gmake  -f src/stats/CMakeFiles/libstats.dir/build.make src/stats/CMakeFiles/libstats.dir/build\n",
      "gmake[3]: Entering directory '/home/paul/pauld/projects/satne/llmnetwork/ns-allinone-3.36.1/ns-3.36.1/cmake-cache'\n",
      "gmake[3]: Nothing to be done for 'src/stats/CMakeFiles/libstats.dir/build'.\n",
      "gmake[3]: Leaving directory '/home/paul/pauld/projects/satne/llmnetwork/ns-allinone-3.36.1/ns-3.36.1/cmake-cache'\n",
      "/usr/bin/gmake  -f src/energy/CMakeFiles/libenergy-obj.dir/build.make src/energy/CMakeFiles/libenergy-obj.dir/depend\n",
      "gmake[3]: Entering directory '/home/paul/pauld/projects/satne/llmnetwork/ns-allinone-3.36.1/ns-3.36.1/cmake-cache'\n",
      "cd /home/paul/pauld/projects/satne/llmnetwork/ns-allinone-3.36.1/ns-3.36.1/cmake-cache && /usr/bin/cmake -E cmake_depends \"Unix Makefiles\" /home/paul/pauld/projects/satne/llmnetwork/ns-allinone-3.36.1/ns-3.36.1 /home/paul/pauld/projects/satne/llmnetwork/ns-allinone-3.36.1/ns-3.36.1/src/energy /home/paul/pauld/projects/satne/llmnetwork/ns-allinone-3.36.1/ns-3.36.1/cmake-cache /home/paul/pauld/projects/satne/llmnetwork/ns-allinone-3.36.1/ns-3.36.1/cmake-cache/src/energy /home/paul/pauld/projects/satne/llmnetwork/ns-allinone-3.36.1/ns-3.36.1/cmake-cache/src/energy/CMakeFiles/libenergy-obj.dir/DependInfo.cmake --color=\n",
      "gmake[3]: Leaving directory '/home/paul/pauld/projects/satne/llmnetwork/ns-allinone-3.36.1/ns-3.36.1/cmake-cache'\n",
      "/usr/bin/gmake  -f src/energy/CMakeFiles/libenergy-obj.dir/build.make src/energy/CMakeFiles/libenergy-obj.dir/build\n",
      "gmake[3]: Entering directory '/home/paul/pauld/projects/satne/llmnetwork/ns-allinone-3.36.1/ns-3.36.1/cmake-cache'\n",
      "gmake[3]: Nothing to be done for 'src/energy/CMakeFiles/libenergy-obj.dir/build'.\n",
      "gmake[3]: Leaving directory '/home/paul/pauld/projects/satne/llmnetwork/ns-allinone-3.36.1/ns-3.36.1/cmake-cache'\n",
      "/usr/bin/gmake  -f src/network/CMakeFiles/libnetwork-obj.dir/build.make src/network/CMakeFiles/libnetwork-obj.dir/depend\n",
      "gmake[3]: Entering directory '/home/paul/pauld/projects/satne/llmnetwork/ns-allinone-3.36.1/ns-3.36.1/cmake-cache'\n",
      "cd /home/paul/pauld/projects/satne/llmnetwork/ns-allinone-3.36.1/ns-3.36.1/cmake-cache && /usr/bin/cmake -E cmake_depends \"Unix Makefiles\" /home/paul/pauld/projects/satne/llmnetwork/ns-allinone-3.36.1/ns-3.36.1 /home/paul/pauld/projects/satne/llmnetwork/ns-allinone-3.36.1/ns-3.36.1/src/network /home/paul/pauld/projects/satne/llmnetwork/ns-allinone-3.36.1/ns-3.36.1/cmake-cache /home/paul/pauld/projects/satne/llmnetwork/ns-allinone-3.36.1/ns-3.36.1/cmake-cache/src/network /home/paul/pauld/projects/satne/llmnetwork/ns-allinone-3.36.1/ns-3.36.1/cmake-cache/src/network/CMakeFiles/libnetwork-obj.dir/DependInfo.cmake --color=\n",
      "gmake[3]: Leaving directory '/home/paul/pauld/projects/satne/llmnetwork/ns-allinone-3.36.1/ns-3.36.1/cmake-cache'\n",
      "/usr/bin/gmake  -f src/network/CMakeFiles/libnetwork-obj.dir/build.make src/network/CMakeFiles/libnetwork-obj.dir/build\n",
      "gmake[3]: Entering directory '/home/paul/pauld/projects/satne/llmnetwork/ns-allinone-3.36.1/ns-3.36.1/cmake-cache'\n",
      "gmake[3]: Nothing to be done for 'src/network/CMakeFiles/libnetwork-obj.dir/build'.\n",
      "gmake[3]: Leaving directory '/home/paul/pauld/projects/satne/llmnetwork/ns-allinone-3.36.1/ns-3.36.1/cmake-cache'\n",
      "/usr/bin/gmake  -f src/network/CMakeFiles/libnetwork.dir/build.make src/network/CMakeFiles/libnetwork.dir/depend\n",
      "gmake[3]: Entering directory '/home/paul/pauld/projects/satne/llmnetwork/ns-allinone-3.36.1/ns-3.36.1/cmake-cache'\n",
      "cd /home/paul/pauld/projects/satne/llmnetwork/ns-allinone-3.36.1/ns-3.36.1/cmake-cache && /usr/bin/cmake -E cmake_depends \"Unix Makefiles\" /home/paul/pauld/projects/satne/llmnetwork/ns-allinone-3.36.1/ns-3.36.1 /home/paul/pauld/projects/satne/llmnetwork/ns-allinone-3.36.1/ns-3.36.1/src/network /home/paul/pauld/projects/satne/llmnetwork/ns-allinone-3.36.1/ns-3.36.1/cmake-cache /home/paul/pauld/projects/satne/llmnetwork/ns-allinone-3.36.1/ns-3.36.1/cmake-cache/src/network /home/paul/pauld/projects/satne/llmnetwork/ns-allinone-3.36.1/ns-3.36.1/cmake-cache/src/network/CMakeFiles/libnetwork.dir/DependInfo.cmake --color=\n",
      "gmake[3]: Leaving directory '/home/paul/pauld/projects/satne/llmnetwork/ns-allinone-3.36.1/ns-3.36.1/cmake-cache'\n",
      "/usr/bin/gmake  -f src/network/CMakeFiles/libnetwork.dir/build.make src/network/CMakeFiles/libnetwork.dir/build\n",
      "gmake[3]: Entering directory '/home/paul/pauld/projects/satne/llmnetwork/ns-allinone-3.36.1/ns-3.36.1/cmake-cache'\n",
      "gmake[3]: Nothing to be done for 'src/network/CMakeFiles/libnetwork.dir/build'.\n",
      "gmake[3]: Leaving directory '/home/paul/pauld/projects/satne/llmnetwork/ns-allinone-3.36.1/ns-3.36.1/cmake-cache'\n",
      "/usr/bin/gmake  -f src/energy/CMakeFiles/libenergy.dir/build.make src/energy/CMakeFiles/libenergy.dir/depend\n",
      "gmake[3]: Entering directory '/home/paul/pauld/projects/satne/llmnetwork/ns-allinone-3.36.1/ns-3.36.1/cmake-cache'\n",
      "cd /home/paul/pauld/projects/satne/llmnetwork/ns-allinone-3.36.1/ns-3.36.1/cmake-cache && /usr/bin/cmake -E cmake_depends \"Unix Makefiles\" /home/paul/pauld/projects/satne/llmnetwork/ns-allinone-3.36.1/ns-3.36.1 /home/paul/pauld/projects/satne/llmnetwork/ns-allinone-3.36.1/ns-3.36.1/src/energy /home/paul/pauld/projects/satne/llmnetwork/ns-allinone-3.36.1/ns-3.36.1/cmake-cache /home/paul/pauld/projects/satne/llmnetwork/ns-allinone-3.36.1/ns-3.36.1/cmake-cache/src/energy /home/paul/pauld/projects/satne/llmnetwork/ns-allinone-3.36.1/ns-3.36.1/cmake-cache/src/energy/CMakeFiles/libenergy.dir/DependInfo.cmake --color=\n",
      "gmake[3]: Leaving directory '/home/paul/pauld/projects/satne/llmnetwork/ns-allinone-3.36.1/ns-3.36.1/cmake-cache'\n",
      "/usr/bin/gmake  -f src/energy/CMakeFiles/libenergy.dir/build.make src/energy/CMakeFiles/libenergy.dir/build\n",
      "gmake[3]: Entering directory '/home/paul/pauld/projects/satne/llmnetwork/ns-allinone-3.36.1/ns-3.36.1/cmake-cache'\n",
      "gmake[3]: Nothing to be done for 'src/energy/CMakeFiles/libenergy.dir/build'.\n",
      "gmake[3]: Leaving directory '/home/paul/pauld/projects/satne/llmnetwork/ns-allinone-3.36.1/ns-3.36.1/cmake-cache'\n",
      "/usr/bin/gmake  -f src/mobility/CMakeFiles/libmobility-obj.dir/build.make src/mobility/CMakeFiles/libmobility-obj.dir/depend\n",
      "gmake[3]: Entering directory '/home/paul/pauld/projects/satne/llmnetwork/ns-allinone-3.36.1/ns-3.36.1/cmake-cache'\n",
      "cd /home/paul/pauld/projects/satne/llmnetwork/ns-allinone-3.36.1/ns-3.36.1/cmake-cache && /usr/bin/cmake -E cmake_depends \"Unix Makefiles\" /home/paul/pauld/projects/satne/llmnetwork/ns-allinone-3.36.1/ns-3.36.1 /home/paul/pauld/projects/satne/llmnetwork/ns-allinone-3.36.1/ns-3.36.1/src/mobility /home/paul/pauld/projects/satne/llmnetwork/ns-allinone-3.36.1/ns-3.36.1/cmake-cache /home/paul/pauld/projects/satne/llmnetwork/ns-allinone-3.36.1/ns-3.36.1/cmake-cache/src/mobility /home/paul/pauld/projects/satne/llmnetwork/ns-allinone-3.36.1/ns-3.36.1/cmake-cache/src/mobility/CMakeFiles/libmobility-obj.dir/DependInfo.cmake --color=\n",
      "gmake[3]: Leaving directory '/home/paul/pauld/projects/satne/llmnetwork/ns-allinone-3.36.1/ns-3.36.1/cmake-cache'\n",
      "/usr/bin/gmake  -f src/mobility/CMakeFiles/libmobility-obj.dir/build.make src/mobility/CMakeFiles/libmobility-obj.dir/build\n",
      "gmake[3]: Entering directory '/home/paul/pauld/projects/satne/llmnetwork/ns-allinone-3.36.1/ns-3.36.1/cmake-cache'\n",
      "gmake[3]: Nothing to be done for 'src/mobility/CMakeFiles/libmobility-obj.dir/build'.\n",
      "gmake[3]: Leaving directory '/home/paul/pauld/projects/satne/llmnetwork/ns-allinone-3.36.1/ns-3.36.1/cmake-cache'\n",
      "/usr/bin/gmake  -f src/mobility/CMakeFiles/libmobility.dir/build.make src/mobility/CMakeFiles/libmobility.dir/depend\n",
      "gmake[3]: Entering directory '/home/paul/pauld/projects/satne/llmnetwork/ns-allinone-3.36.1/ns-3.36.1/cmake-cache'\n",
      "cd /home/paul/pauld/projects/satne/llmnetwork/ns-allinone-3.36.1/ns-3.36.1/cmake-cache && /usr/bin/cmake -E cmake_depends \"Unix Makefiles\" /home/paul/pauld/projects/satne/llmnetwork/ns-allinone-3.36.1/ns-3.36.1 /home/paul/pauld/projects/satne/llmnetwork/ns-allinone-3.36.1/ns-3.36.1/src/mobility /home/paul/pauld/projects/satne/llmnetwork/ns-allinone-3.36.1/ns-3.36.1/cmake-cache /home/paul/pauld/projects/satne/llmnetwork/ns-allinone-3.36.1/ns-3.36.1/cmake-cache/src/mobility /home/paul/pauld/projects/satne/llmnetwork/ns-allinone-3.36.1/ns-3.36.1/cmake-cache/src/mobility/CMakeFiles/libmobility.dir/DependInfo.cmake --color=\n",
      "gmake[3]: Leaving directory '/home/paul/pauld/projects/satne/llmnetwork/ns-allinone-3.36.1/ns-3.36.1/cmake-cache'\n",
      "/usr/bin/gmake  -f src/mobility/CMakeFiles/libmobility.dir/build.make src/mobility/CMakeFiles/libmobility.dir/build\n",
      "gmake[3]: Entering directory '/home/paul/pauld/projects/satne/llmnetwork/ns-allinone-3.36.1/ns-3.36.1/cmake-cache'\n",
      "gmake[3]: Nothing to be done for 'src/mobility/CMakeFiles/libmobility.dir/build'.\n",
      "gmake[3]: Leaving directory '/home/paul/pauld/projects/satne/llmnetwork/ns-allinone-3.36.1/ns-3.36.1/cmake-cache'\n",
      "/usr/bin/gmake  -f src/propagation/CMakeFiles/libpropagation-obj.dir/build.make src/propagation/CMakeFiles/libpropagation-obj.dir/depend\n",
      "gmake[3]: Entering directory '/home/paul/pauld/projects/satne/llmnetwork/ns-allinone-3.36.1/ns-3.36.1/cmake-cache'\n",
      "cd /home/paul/pauld/projects/satne/llmnetwork/ns-allinone-3.36.1/ns-3.36.1/cmake-cache && /usr/bin/cmake -E cmake_depends \"Unix Makefiles\" /home/paul/pauld/projects/satne/llmnetwork/ns-allinone-3.36.1/ns-3.36.1 /home/paul/pauld/projects/satne/llmnetwork/ns-allinone-3.36.1/ns-3.36.1/src/propagation /home/paul/pauld/projects/satne/llmnetwork/ns-allinone-3.36.1/ns-3.36.1/cmake-cache /home/paul/pauld/projects/satne/llmnetwork/ns-allinone-3.36.1/ns-3.36.1/cmake-cache/src/propagation /home/paul/pauld/projects/satne/llmnetwork/ns-allinone-3.36.1/ns-3.36.1/cmake-cache/src/propagation/CMakeFiles/libpropagation-obj.dir/DependInfo.cmake --color=\n",
      "gmake[3]: Leaving directory '/home/paul/pauld/projects/satne/llmnetwork/ns-allinone-3.36.1/ns-3.36.1/cmake-cache'\n",
      "/usr/bin/gmake  -f src/propagation/CMakeFiles/libpropagation-obj.dir/build.make src/propagation/CMakeFiles/libpropagation-obj.dir/build\n",
      "gmake[3]: Entering directory '/home/paul/pauld/projects/satne/llmnetwork/ns-allinone-3.36.1/ns-3.36.1/cmake-cache'\n",
      "gmake[3]: Nothing to be done for 'src/propagation/CMakeFiles/libpropagation-obj.dir/build'.\n",
      "gmake[3]: Leaving directory '/home/paul/pauld/projects/satne/llmnetwork/ns-allinone-3.36.1/ns-3.36.1/cmake-cache'\n",
      "/usr/bin/gmake  -f src/propagation/CMakeFiles/libpropagation.dir/build.make src/propagation/CMakeFiles/libpropagation.dir/depend\n",
      "gmake[3]: Entering directory '/home/paul/pauld/projects/satne/llmnetwork/ns-allinone-3.36.1/ns-3.36.1/cmake-cache'\n",
      "cd /home/paul/pauld/projects/satne/llmnetwork/ns-allinone-3.36.1/ns-3.36.1/cmake-cache && /usr/bin/cmake -E cmake_depends \"Unix Makefiles\" /home/paul/pauld/projects/satne/llmnetwork/ns-allinone-3.36.1/ns-3.36.1 /home/paul/pauld/projects/satne/llmnetwork/ns-allinone-3.36.1/ns-3.36.1/src/propagation /home/paul/pauld/projects/satne/llmnetwork/ns-allinone-3.36.1/ns-3.36.1/cmake-cache /home/paul/pauld/projects/satne/llmnetwork/ns-allinone-3.36.1/ns-3.36.1/cmake-cache/src/propagation /home/paul/pauld/projects/satne/llmnetwork/ns-allinone-3.36.1/ns-3.36.1/cmake-cache/src/propagation/CMakeFiles/libpropagation.dir/DependInfo.cmake --color=\n",
      "gmake[3]: Leaving directory '/home/paul/pauld/projects/satne/llmnetwork/ns-allinone-3.36.1/ns-3.36.1/cmake-cache'\n",
      "/usr/bin/gmake  -f src/propagation/CMakeFiles/libpropagation.dir/build.make src/propagation/CMakeFiles/libpropagation.dir/build\n",
      "gmake[3]: Entering directory '/home/paul/pauld/projects/satne/llmnetwork/ns-allinone-3.36.1/ns-3.36.1/cmake-cache'\n",
      "gmake[3]: Nothing to be done for 'src/propagation/CMakeFiles/libpropagation.dir/build'.\n",
      "gmake[3]: Leaving directory '/home/paul/pauld/projects/satne/llmnetwork/ns-allinone-3.36.1/ns-3.36.1/cmake-cache'\n",
      "/usr/bin/gmake  -f src/spectrum/CMakeFiles/libspectrum-obj.dir/build.make src/spectrum/CMakeFiles/libspectrum-obj.dir/depend\n",
      "gmake[3]: Entering directory '/home/paul/pauld/projects/satne/llmnetwork/ns-allinone-3.36.1/ns-3.36.1/cmake-cache'\n",
      "cd /home/paul/pauld/projects/satne/llmnetwork/ns-allinone-3.36.1/ns-3.36.1/cmake-cache && /usr/bin/cmake -E cmake_depends \"Unix Makefiles\" /home/paul/pauld/projects/satne/llmnetwork/ns-allinone-3.36.1/ns-3.36.1 /home/paul/pauld/projects/satne/llmnetwork/ns-allinone-3.36.1/ns-3.36.1/src/spectrum /home/paul/pauld/projects/satne/llmnetwork/ns-allinone-3.36.1/ns-3.36.1/cmake-cache /home/paul/pauld/projects/satne/llmnetwork/ns-allinone-3.36.1/ns-3.36.1/cmake-cache/src/spectrum /home/paul/pauld/projects/satne/llmnetwork/ns-allinone-3.36.1/ns-3.36.1/cmake-cache/src/spectrum/CMakeFiles/libspectrum-obj.dir/DependInfo.cmake --color=\n",
      "gmake[3]: Leaving directory '/home/paul/pauld/projects/satne/llmnetwork/ns-allinone-3.36.1/ns-3.36.1/cmake-cache'\n",
      "/usr/bin/gmake  -f src/spectrum/CMakeFiles/libspectrum-obj.dir/build.make src/spectrum/CMakeFiles/libspectrum-obj.dir/build\n",
      "gmake[3]: Entering directory '/home/paul/pauld/projects/satne/llmnetwork/ns-allinone-3.36.1/ns-3.36.1/cmake-cache'\n",
      "gmake[3]: Nothing to be done for 'src/spectrum/CMakeFiles/libspectrum-obj.dir/build'.\n",
      "gmake[3]: Leaving directory '/home/paul/pauld/projects/satne/llmnetwork/ns-allinone-3.36.1/ns-3.36.1/cmake-cache'\n",
      "/usr/bin/gmake  -f src/spectrum/CMakeFiles/libspectrum.dir/build.make src/spectrum/CMakeFiles/libspectrum.dir/depend\n",
      "gmake[3]: Entering directory '/home/paul/pauld/projects/satne/llmnetwork/ns-allinone-3.36.1/ns-3.36.1/cmake-cache'\n",
      "cd /home/paul/pauld/projects/satne/llmnetwork/ns-allinone-3.36.1/ns-3.36.1/cmake-cache && /usr/bin/cmake -E cmake_depends \"Unix Makefiles\" /home/paul/pauld/projects/satne/llmnetwork/ns-allinone-3.36.1/ns-3.36.1 /home/paul/pauld/projects/satne/llmnetwork/ns-allinone-3.36.1/ns-3.36.1/src/spectrum /home/paul/pauld/projects/satne/llmnetwork/ns-allinone-3.36.1/ns-3.36.1/cmake-cache /home/paul/pauld/projects/satne/llmnetwork/ns-allinone-3.36.1/ns-3.36.1/cmake-cache/src/spectrum /home/paul/pauld/projects/satne/llmnetwork/ns-allinone-3.36.1/ns-3.36.1/cmake-cache/src/spectrum/CMakeFiles/libspectrum.dir/DependInfo.cmake --color=\n",
      "gmake[3]: Leaving directory '/home/paul/pauld/projects/satne/llmnetwork/ns-allinone-3.36.1/ns-3.36.1/cmake-cache'\n",
      "/usr/bin/gmake  -f src/spectrum/CMakeFiles/libspectrum.dir/build.make src/spectrum/CMakeFiles/libspectrum.dir/build\n",
      "gmake[3]: Entering directory '/home/paul/pauld/projects/satne/llmnetwork/ns-allinone-3.36.1/ns-3.36.1/cmake-cache'\n",
      "gmake[3]: Nothing to be done for 'src/spectrum/CMakeFiles/libspectrum.dir/build'.\n",
      "gmake[3]: Leaving directory '/home/paul/pauld/projects/satne/llmnetwork/ns-allinone-3.36.1/ns-3.36.1/cmake-cache'\n",
      "/usr/bin/gmake  -f src/wifi/CMakeFiles/libwifi.dir/build.make src/wifi/CMakeFiles/libwifi.dir/depend\n",
      "gmake[3]: Entering directory '/home/paul/pauld/projects/satne/llmnetwork/ns-allinone-3.36.1/ns-3.36.1/cmake-cache'\n",
      "cd /home/paul/pauld/projects/satne/llmnetwork/ns-allinone-3.36.1/ns-3.36.1/cmake-cache && /usr/bin/cmake -E cmake_depends \"Unix Makefiles\" /home/paul/pauld/projects/satne/llmnetwork/ns-allinone-3.36.1/ns-3.36.1 /home/paul/pauld/projects/satne/llmnetwork/ns-allinone-3.36.1/ns-3.36.1/src/wifi /home/paul/pauld/projects/satne/llmnetwork/ns-allinone-3.36.1/ns-3.36.1/cmake-cache /home/paul/pauld/projects/satne/llmnetwork/ns-allinone-3.36.1/ns-3.36.1/cmake-cache/src/wifi /home/paul/pauld/projects/satne/llmnetwork/ns-allinone-3.36.1/ns-3.36.1/cmake-cache/src/wifi/CMakeFiles/libwifi.dir/DependInfo.cmake --color=\n",
      "gmake[3]: Leaving directory '/home/paul/pauld/projects/satne/llmnetwork/ns-allinone-3.36.1/ns-3.36.1/cmake-cache'\n",
      "/usr/bin/gmake  -f src/wifi/CMakeFiles/libwifi.dir/build.make src/wifi/CMakeFiles/libwifi.dir/build\n",
      "gmake[3]: Entering directory '/home/paul/pauld/projects/satne/llmnetwork/ns-allinone-3.36.1/ns-3.36.1/cmake-cache'\n",
      "gmake[3]: Nothing to be done for 'src/wifi/CMakeFiles/libwifi.dir/build'.\n",
      "gmake[3]: Leaving directory '/home/paul/pauld/projects/satne/llmnetwork/ns-allinone-3.36.1/ns-3.36.1/cmake-cache'\n",
      "/usr/bin/gmake  -f CMakeFiles/stdlib_pch_exec.dir/build.make CMakeFiles/stdlib_pch_exec.dir/depend\n",
      "gmake[3]: Entering directory '/home/paul/pauld/projects/satne/llmnetwork/ns-allinone-3.36.1/ns-3.36.1/cmake-cache'\n",
      "cd /home/paul/pauld/projects/satne/llmnetwork/ns-allinone-3.36.1/ns-3.36.1/cmake-cache && /usr/bin/cmake -E cmake_depends \"Unix Makefiles\" /home/paul/pauld/projects/satne/llmnetwork/ns-allinone-3.36.1/ns-3.36.1 /home/paul/pauld/projects/satne/llmnetwork/ns-allinone-3.36.1/ns-3.36.1 /home/paul/pauld/projects/satne/llmnetwork/ns-allinone-3.36.1/ns-3.36.1/cmake-cache /home/paul/pauld/projects/satne/llmnetwork/ns-allinone-3.36.1/ns-3.36.1/cmake-cache /home/paul/pauld/projects/satne/llmnetwork/ns-allinone-3.36.1/ns-3.36.1/cmake-cache/CMakeFiles/stdlib_pch_exec.dir/DependInfo.cmake --color=\n",
      "gmake[3]: Leaving directory '/home/paul/pauld/projects/satne/llmnetwork/ns-allinone-3.36.1/ns-3.36.1/cmake-cache'\n",
      "/usr/bin/gmake  -f CMakeFiles/stdlib_pch_exec.dir/build.make CMakeFiles/stdlib_pch_exec.dir/build\n",
      "gmake[3]: Entering directory '/home/paul/pauld/projects/satne/llmnetwork/ns-allinone-3.36.1/ns-3.36.1/cmake-cache'\n",
      "gmake[3]: Nothing to be done for 'CMakeFiles/stdlib_pch_exec.dir/build'.\n",
      "gmake[3]: Leaving directory '/home/paul/pauld/projects/satne/llmnetwork/ns-allinone-3.36.1/ns-3.36.1/cmake-cache'\n",
      "/usr/bin/gmake  -f contrib/opengym/CMakeFiles/libopengym-obj.dir/build.make contrib/opengym/CMakeFiles/libopengym-obj.dir/depend\n",
      "gmake[3]: Entering directory '/home/paul/pauld/projects/satne/llmnetwork/ns-allinone-3.36.1/ns-3.36.1/cmake-cache'\n",
      "cd /home/paul/pauld/projects/satne/llmnetwork/ns-allinone-3.36.1/ns-3.36.1/cmake-cache && /usr/bin/cmake -E cmake_depends \"Unix Makefiles\" /home/paul/pauld/projects/satne/llmnetwork/ns-allinone-3.36.1/ns-3.36.1 /home/paul/pauld/projects/satne/llmnetwork/ns-allinone-3.36.1/ns-3.36.1/contrib/opengym /home/paul/pauld/projects/satne/llmnetwork/ns-allinone-3.36.1/ns-3.36.1/cmake-cache /home/paul/pauld/projects/satne/llmnetwork/ns-allinone-3.36.1/ns-3.36.1/cmake-cache/contrib/opengym /home/paul/pauld/projects/satne/llmnetwork/ns-allinone-3.36.1/ns-3.36.1/cmake-cache/contrib/opengym/CMakeFiles/libopengym-obj.dir/DependInfo.cmake --color=\n",
      "gmake[3]: Leaving directory '/home/paul/pauld/projects/satne/llmnetwork/ns-allinone-3.36.1/ns-3.36.1/cmake-cache'\n",
      "/usr/bin/gmake  -f contrib/opengym/CMakeFiles/libopengym-obj.dir/build.make contrib/opengym/CMakeFiles/libopengym-obj.dir/build\n",
      "gmake[3]: Entering directory '/home/paul/pauld/projects/satne/llmnetwork/ns-allinone-3.36.1/ns-3.36.1/cmake-cache'\n",
      "gmake[3]: Nothing to be done for 'contrib/opengym/CMakeFiles/libopengym-obj.dir/build'.\n",
      "gmake[3]: Leaving directory '/home/paul/pauld/projects/satne/llmnetwork/ns-allinone-3.36.1/ns-3.36.1/cmake-cache'\n",
      "/usr/bin/gmake  -f contrib/opengym/CMakeFiles/libopengym.dir/build.make contrib/opengym/CMakeFiles/libopengym.dir/depend\n",
      "gmake[3]: Entering directory '/home/paul/pauld/projects/satne/llmnetwork/ns-allinone-3.36.1/ns-3.36.1/cmake-cache'\n",
      "cd /home/paul/pauld/projects/satne/llmnetwork/ns-allinone-3.36.1/ns-3.36.1/cmake-cache && /usr/bin/cmake -E cmake_depends \"Unix Makefiles\" /home/paul/pauld/projects/satne/llmnetwork/ns-allinone-3.36.1/ns-3.36.1 /home/paul/pauld/projects/satne/llmnetwork/ns-allinone-3.36.1/ns-3.36.1/contrib/opengym /home/paul/pauld/projects/satne/llmnetwork/ns-allinone-3.36.1/ns-3.36.1/cmake-cache /home/paul/pauld/projects/satne/llmnetwork/ns-allinone-3.36.1/ns-3.36.1/cmake-cache/contrib/opengym /home/paul/pauld/projects/satne/llmnetwork/ns-allinone-3.36.1/ns-3.36.1/cmake-cache/contrib/opengym/CMakeFiles/libopengym.dir/DependInfo.cmake --color=\n",
      "gmake[3]: Leaving directory '/home/paul/pauld/projects/satne/llmnetwork/ns-allinone-3.36.1/ns-3.36.1/cmake-cache'\n",
      "/usr/bin/gmake  -f contrib/opengym/CMakeFiles/libopengym.dir/build.make contrib/opengym/CMakeFiles/libopengym.dir/build\n",
      "gmake[3]: Entering directory '/home/paul/pauld/projects/satne/llmnetwork/ns-allinone-3.36.1/ns-3.36.1/cmake-cache'\n",
      "gmake[3]: Nothing to be done for 'contrib/opengym/CMakeFiles/libopengym.dir/build'.\n",
      "gmake[3]: Leaving directory '/home/paul/pauld/projects/satne/llmnetwork/ns-allinone-3.36.1/ns-3.36.1/cmake-cache'\n",
      "/usr/bin/gmake  -f src/bridge/CMakeFiles/libbridge-obj.dir/build.make src/bridge/CMakeFiles/libbridge-obj.dir/depend\n",
      "gmake[3]: Entering directory '/home/paul/pauld/projects/satne/llmnetwork/ns-allinone-3.36.1/ns-3.36.1/cmake-cache'\n",
      "cd /home/paul/pauld/projects/satne/llmnetwork/ns-allinone-3.36.1/ns-3.36.1/cmake-cache && /usr/bin/cmake -E cmake_depends \"Unix Makefiles\" /home/paul/pauld/projects/satne/llmnetwork/ns-allinone-3.36.1/ns-3.36.1 /home/paul/pauld/projects/satne/llmnetwork/ns-allinone-3.36.1/ns-3.36.1/src/bridge /home/paul/pauld/projects/satne/llmnetwork/ns-allinone-3.36.1/ns-3.36.1/cmake-cache /home/paul/pauld/projects/satne/llmnetwork/ns-allinone-3.36.1/ns-3.36.1/cmake-cache/src/bridge /home/paul/pauld/projects/satne/llmnetwork/ns-allinone-3.36.1/ns-3.36.1/cmake-cache/src/bridge/CMakeFiles/libbridge-obj.dir/DependInfo.cmake --color=\n",
      "gmake[3]: Leaving directory '/home/paul/pauld/projects/satne/llmnetwork/ns-allinone-3.36.1/ns-3.36.1/cmake-cache'\n",
      "/usr/bin/gmake  -f src/bridge/CMakeFiles/libbridge-obj.dir/build.make src/bridge/CMakeFiles/libbridge-obj.dir/build\n",
      "gmake[3]: Entering directory '/home/paul/pauld/projects/satne/llmnetwork/ns-allinone-3.36.1/ns-3.36.1/cmake-cache'\n",
      "gmake[3]: Nothing to be done for 'src/bridge/CMakeFiles/libbridge-obj.dir/build'.\n",
      "gmake[3]: Leaving directory '/home/paul/pauld/projects/satne/llmnetwork/ns-allinone-3.36.1/ns-3.36.1/cmake-cache'\n",
      "/usr/bin/gmake  -f src/bridge/CMakeFiles/libbridge.dir/build.make src/bridge/CMakeFiles/libbridge.dir/depend\n",
      "gmake[3]: Entering directory '/home/paul/pauld/projects/satne/llmnetwork/ns-allinone-3.36.1/ns-3.36.1/cmake-cache'\n",
      "cd /home/paul/pauld/projects/satne/llmnetwork/ns-allinone-3.36.1/ns-3.36.1/cmake-cache && /usr/bin/cmake -E cmake_depends \"Unix Makefiles\" /home/paul/pauld/projects/satne/llmnetwork/ns-allinone-3.36.1/ns-3.36.1 /home/paul/pauld/projects/satne/llmnetwork/ns-allinone-3.36.1/ns-3.36.1/src/bridge /home/paul/pauld/projects/satne/llmnetwork/ns-allinone-3.36.1/ns-3.36.1/cmake-cache /home/paul/pauld/projects/satne/llmnetwork/ns-allinone-3.36.1/ns-3.36.1/cmake-cache/src/bridge /home/paul/pauld/projects/satne/llmnetwork/ns-allinone-3.36.1/ns-3.36.1/cmake-cache/src/bridge/CMakeFiles/libbridge.dir/DependInfo.cmake --color=\n",
      "gmake[3]: Leaving directory '/home/paul/pauld/projects/satne/llmnetwork/ns-allinone-3.36.1/ns-3.36.1/cmake-cache'\n",
      "/usr/bin/gmake  -f src/bridge/CMakeFiles/libbridge.dir/build.make src/bridge/CMakeFiles/libbridge.dir/build\n",
      "gmake[3]: Entering directory '/home/paul/pauld/projects/satne/llmnetwork/ns-allinone-3.36.1/ns-3.36.1/cmake-cache'\n",
      "gmake[3]: Nothing to be done for 'src/bridge/CMakeFiles/libbridge.dir/build'.\n",
      "gmake[3]: Leaving directory '/home/paul/pauld/projects/satne/llmnetwork/ns-allinone-3.36.1/ns-3.36.1/cmake-cache'\n",
      "/usr/bin/gmake  -f src/config-store/CMakeFiles/libconfig-store-obj.dir/build.make src/config-store/CMakeFiles/libconfig-store-obj.dir/depend\n",
      "gmake[3]: Entering directory '/home/paul/pauld/projects/satne/llmnetwork/ns-allinone-3.36.1/ns-3.36.1/cmake-cache'\n",
      "cd /home/paul/pauld/projects/satne/llmnetwork/ns-allinone-3.36.1/ns-3.36.1/cmake-cache && /usr/bin/cmake -E cmake_depends \"Unix Makefiles\" /home/paul/pauld/projects/satne/llmnetwork/ns-allinone-3.36.1/ns-3.36.1 /home/paul/pauld/projects/satne/llmnetwork/ns-allinone-3.36.1/ns-3.36.1/src/config-store /home/paul/pauld/projects/satne/llmnetwork/ns-allinone-3.36.1/ns-3.36.1/cmake-cache /home/paul/pauld/projects/satne/llmnetwork/ns-allinone-3.36.1/ns-3.36.1/cmake-cache/src/config-store /home/paul/pauld/projects/satne/llmnetwork/ns-allinone-3.36.1/ns-3.36.1/cmake-cache/src/config-store/CMakeFiles/libconfig-store-obj.dir/DependInfo.cmake --color=\n",
      "gmake[3]: Leaving directory '/home/paul/pauld/projects/satne/llmnetwork/ns-allinone-3.36.1/ns-3.36.1/cmake-cache'\n",
      "/usr/bin/gmake  -f src/config-store/CMakeFiles/libconfig-store-obj.dir/build.make src/config-store/CMakeFiles/libconfig-store-obj.dir/build\n",
      "gmake[3]: Entering directory '/home/paul/pauld/projects/satne/llmnetwork/ns-allinone-3.36.1/ns-3.36.1/cmake-cache'\n",
      "gmake[3]: Nothing to be done for 'src/config-store/CMakeFiles/libconfig-store-obj.dir/build'.\n",
      "gmake[3]: Leaving directory '/home/paul/pauld/projects/satne/llmnetwork/ns-allinone-3.36.1/ns-3.36.1/cmake-cache'\n",
      "/usr/bin/gmake  -f src/config-store/CMakeFiles/libconfig-store.dir/build.make src/config-store/CMakeFiles/libconfig-store.dir/depend\n",
      "gmake[3]: Entering directory '/home/paul/pauld/projects/satne/llmnetwork/ns-allinone-3.36.1/ns-3.36.1/cmake-cache'\n",
      "cd /home/paul/pauld/projects/satne/llmnetwork/ns-allinone-3.36.1/ns-3.36.1/cmake-cache && /usr/bin/cmake -E cmake_depends \"Unix Makefiles\" /home/paul/pauld/projects/satne/llmnetwork/ns-allinone-3.36.1/ns-3.36.1 /home/paul/pauld/projects/satne/llmnetwork/ns-allinone-3.36.1/ns-3.36.1/src/config-store /home/paul/pauld/projects/satne/llmnetwork/ns-allinone-3.36.1/ns-3.36.1/cmake-cache /home/paul/pauld/projects/satne/llmnetwork/ns-allinone-3.36.1/ns-3.36.1/cmake-cache/src/config-store /home/paul/pauld/projects/satne/llmnetwork/ns-allinone-3.36.1/ns-3.36.1/cmake-cache/src/config-store/CMakeFiles/libconfig-store.dir/DependInfo.cmake --color=\n",
      "gmake[3]: Leaving directory '/home/paul/pauld/projects/satne/llmnetwork/ns-allinone-3.36.1/ns-3.36.1/cmake-cache'\n",
      "/usr/bin/gmake  -f src/config-store/CMakeFiles/libconfig-store.dir/build.make src/config-store/CMakeFiles/libconfig-store.dir/build\n",
      "gmake[3]: Entering directory '/home/paul/pauld/projects/satne/llmnetwork/ns-allinone-3.36.1/ns-3.36.1/cmake-cache'\n",
      "gmake[3]: Nothing to be done for 'src/config-store/CMakeFiles/libconfig-store.dir/build'.\n",
      "gmake[3]: Leaving directory '/home/paul/pauld/projects/satne/llmnetwork/ns-allinone-3.36.1/ns-3.36.1/cmake-cache'\n",
      "/usr/bin/gmake  -f src/traffic-control/CMakeFiles/libtraffic-control-obj.dir/build.make src/traffic-control/CMakeFiles/libtraffic-control-obj.dir/depend\n",
      "gmake[3]: Entering directory '/home/paul/pauld/projects/satne/llmnetwork/ns-allinone-3.36.1/ns-3.36.1/cmake-cache'\n",
      "cd /home/paul/pauld/projects/satne/llmnetwork/ns-allinone-3.36.1/ns-3.36.1/cmake-cache && /usr/bin/cmake -E cmake_depends \"Unix Makefiles\" /home/paul/pauld/projects/satne/llmnetwork/ns-allinone-3.36.1/ns-3.36.1 /home/paul/pauld/projects/satne/llmnetwork/ns-allinone-3.36.1/ns-3.36.1/src/traffic-control /home/paul/pauld/projects/satne/llmnetwork/ns-allinone-3.36.1/ns-3.36.1/cmake-cache /home/paul/pauld/projects/satne/llmnetwork/ns-allinone-3.36.1/ns-3.36.1/cmake-cache/src/traffic-control /home/paul/pauld/projects/satne/llmnetwork/ns-allinone-3.36.1/ns-3.36.1/cmake-cache/src/traffic-control/CMakeFiles/libtraffic-control-obj.dir/DependInfo.cmake --color=\n",
      "gmake[3]: Leaving directory '/home/paul/pauld/projects/satne/llmnetwork/ns-allinone-3.36.1/ns-3.36.1/cmake-cache'\n",
      "/usr/bin/gmake  -f src/traffic-control/CMakeFiles/libtraffic-control-obj.dir/build.make src/traffic-control/CMakeFiles/libtraffic-control-obj.dir/build\n",
      "gmake[3]: Entering directory '/home/paul/pauld/projects/satne/llmnetwork/ns-allinone-3.36.1/ns-3.36.1/cmake-cache'\n",
      "gmake[3]: Nothing to be done for 'src/traffic-control/CMakeFiles/libtraffic-control-obj.dir/build'.\n",
      "gmake[3]: Leaving directory '/home/paul/pauld/projects/satne/llmnetwork/ns-allinone-3.36.1/ns-3.36.1/cmake-cache'\n",
      "/usr/bin/gmake  -f src/traffic-control/CMakeFiles/libtraffic-control.dir/build.make src/traffic-control/CMakeFiles/libtraffic-control.dir/depend\n",
      "gmake[3]: Entering directory '/home/paul/pauld/projects/satne/llmnetwork/ns-allinone-3.36.1/ns-3.36.1/cmake-cache'\n",
      "cd /home/paul/pauld/projects/satne/llmnetwork/ns-allinone-3.36.1/ns-3.36.1/cmake-cache && /usr/bin/cmake -E cmake_depends \"Unix Makefiles\" /home/paul/pauld/projects/satne/llmnetwork/ns-allinone-3.36.1/ns-3.36.1 /home/paul/pauld/projects/satne/llmnetwork/ns-allinone-3.36.1/ns-3.36.1/src/traffic-control /home/paul/pauld/projects/satne/llmnetwork/ns-allinone-3.36.1/ns-3.36.1/cmake-cache /home/paul/pauld/projects/satne/llmnetwork/ns-allinone-3.36.1/ns-3.36.1/cmake-cache/src/traffic-control /home/paul/pauld/projects/satne/llmnetwork/ns-allinone-3.36.1/ns-3.36.1/cmake-cache/src/traffic-control/CMakeFiles/libtraffic-control.dir/DependInfo.cmake --color=\n",
      "gmake[3]: Leaving directory '/home/paul/pauld/projects/satne/llmnetwork/ns-allinone-3.36.1/ns-3.36.1/cmake-cache'\n",
      "/usr/bin/gmake  -f src/traffic-control/CMakeFiles/libtraffic-control.dir/build.make src/traffic-control/CMakeFiles/libtraffic-control.dir/build\n",
      "gmake[3]: Entering directory '/home/paul/pauld/projects/satne/llmnetwork/ns-allinone-3.36.1/ns-3.36.1/cmake-cache'\n",
      "gmake[3]: Nothing to be done for 'src/traffic-control/CMakeFiles/libtraffic-control.dir/build'.\n",
      "gmake[3]: Leaving directory '/home/paul/pauld/projects/satne/llmnetwork/ns-allinone-3.36.1/ns-3.36.1/cmake-cache'\n",
      "/usr/bin/gmake  -f src/internet/CMakeFiles/libinternet-obj.dir/build.make src/internet/CMakeFiles/libinternet-obj.dir/depend\n",
      "gmake[3]: Entering directory '/home/paul/pauld/projects/satne/llmnetwork/ns-allinone-3.36.1/ns-3.36.1/cmake-cache'\n",
      "cd /home/paul/pauld/projects/satne/llmnetwork/ns-allinone-3.36.1/ns-3.36.1/cmake-cache && /usr/bin/cmake -E cmake_depends \"Unix Makefiles\" /home/paul/pauld/projects/satne/llmnetwork/ns-allinone-3.36.1/ns-3.36.1 /home/paul/pauld/projects/satne/llmnetwork/ns-allinone-3.36.1/ns-3.36.1/src/internet /home/paul/pauld/projects/satne/llmnetwork/ns-allinone-3.36.1/ns-3.36.1/cmake-cache /home/paul/pauld/projects/satne/llmnetwork/ns-allinone-3.36.1/ns-3.36.1/cmake-cache/src/internet /home/paul/pauld/projects/satne/llmnetwork/ns-allinone-3.36.1/ns-3.36.1/cmake-cache/src/internet/CMakeFiles/libinternet-obj.dir/DependInfo.cmake --color=\n",
      "gmake[3]: Leaving directory '/home/paul/pauld/projects/satne/llmnetwork/ns-allinone-3.36.1/ns-3.36.1/cmake-cache'\n",
      "/usr/bin/gmake  -f src/internet/CMakeFiles/libinternet-obj.dir/build.make src/internet/CMakeFiles/libinternet-obj.dir/build\n",
      "gmake[3]: Entering directory '/home/paul/pauld/projects/satne/llmnetwork/ns-allinone-3.36.1/ns-3.36.1/cmake-cache'\n",
      "gmake[3]: Nothing to be done for 'src/internet/CMakeFiles/libinternet-obj.dir/build'.\n",
      "gmake[3]: Leaving directory '/home/paul/pauld/projects/satne/llmnetwork/ns-allinone-3.36.1/ns-3.36.1/cmake-cache'\n",
      "/usr/bin/gmake  -f src/internet/CMakeFiles/libinternet.dir/build.make src/internet/CMakeFiles/libinternet.dir/depend\n",
      "gmake[3]: Entering directory '/home/paul/pauld/projects/satne/llmnetwork/ns-allinone-3.36.1/ns-3.36.1/cmake-cache'\n",
      "cd /home/paul/pauld/projects/satne/llmnetwork/ns-allinone-3.36.1/ns-3.36.1/cmake-cache && /usr/bin/cmake -E cmake_depends \"Unix Makefiles\" /home/paul/pauld/projects/satne/llmnetwork/ns-allinone-3.36.1/ns-3.36.1 /home/paul/pauld/projects/satne/llmnetwork/ns-allinone-3.36.1/ns-3.36.1/src/internet /home/paul/pauld/projects/satne/llmnetwork/ns-allinone-3.36.1/ns-3.36.1/cmake-cache /home/paul/pauld/projects/satne/llmnetwork/ns-allinone-3.36.1/ns-3.36.1/cmake-cache/src/internet /home/paul/pauld/projects/satne/llmnetwork/ns-allinone-3.36.1/ns-3.36.1/cmake-cache/src/internet/CMakeFiles/libinternet.dir/DependInfo.cmake --color=\n",
      "gmake[3]: Leaving directory '/home/paul/pauld/projects/satne/llmnetwork/ns-allinone-3.36.1/ns-3.36.1/cmake-cache'\n",
      "/usr/bin/gmake  -f src/internet/CMakeFiles/libinternet.dir/build.make src/internet/CMakeFiles/libinternet.dir/build\n",
      "gmake[3]: Entering directory '/home/paul/pauld/projects/satne/llmnetwork/ns-allinone-3.36.1/ns-3.36.1/cmake-cache'\n",
      "gmake[3]: Nothing to be done for 'src/internet/CMakeFiles/libinternet.dir/build'.\n",
      "gmake[3]: Leaving directory '/home/paul/pauld/projects/satne/llmnetwork/ns-allinone-3.36.1/ns-3.36.1/cmake-cache'\n",
      "/usr/bin/gmake  -f contrib/opengym/examples/CMakeFiles/interference-pattern.dir/build.make contrib/opengym/examples/CMakeFiles/interference-pattern.dir/depend\n",
      "gmake[3]: Entering directory '/home/paul/pauld/projects/satne/llmnetwork/ns-allinone-3.36.1/ns-3.36.1/cmake-cache'\n",
      "cd /home/paul/pauld/projects/satne/llmnetwork/ns-allinone-3.36.1/ns-3.36.1/cmake-cache && /usr/bin/cmake -E cmake_depends \"Unix Makefiles\" /home/paul/pauld/projects/satne/llmnetwork/ns-allinone-3.36.1/ns-3.36.1 /home/paul/pauld/projects/satne/llmnetwork/ns-allinone-3.36.1/ns-3.36.1/contrib/opengym/examples /home/paul/pauld/projects/satne/llmnetwork/ns-allinone-3.36.1/ns-3.36.1/cmake-cache /home/paul/pauld/projects/satne/llmnetwork/ns-allinone-3.36.1/ns-3.36.1/cmake-cache/contrib/opengym/examples /home/paul/pauld/projects/satne/llmnetwork/ns-allinone-3.36.1/ns-3.36.1/cmake-cache/contrib/opengym/examples/CMakeFiles/interference-pattern.dir/DependInfo.cmake --color=\n",
      "gmake[3]: Leaving directory '/home/paul/pauld/projects/satne/llmnetwork/ns-allinone-3.36.1/ns-3.36.1/cmake-cache'\n",
      "/usr/bin/gmake  -f contrib/opengym/examples/CMakeFiles/interference-pattern.dir/build.make contrib/opengym/examples/CMakeFiles/interference-pattern.dir/build\n",
      "gmake[3]: Entering directory '/home/paul/pauld/projects/satne/llmnetwork/ns-allinone-3.36.1/ns-3.36.1/cmake-cache'\n",
      "gmake[3]: Nothing to be done for 'contrib/opengym/examples/CMakeFiles/interference-pattern.dir/build'.\n",
      "gmake[3]: Leaving directory '/home/paul/pauld/projects/satne/llmnetwork/ns-allinone-3.36.1/ns-3.36.1/cmake-cache'\n",
      "gmake[2]: Leaving directory '/home/paul/pauld/projects/satne/llmnetwork/ns-allinone-3.36.1/ns-3.36.1/cmake-cache'\n",
      "/usr/bin/cmake -E cmake_progress_start /home/paul/pauld/projects/satne/llmnetwork/ns-allinone-3.36.1/ns-3.36.1/cmake-cache/CMakeFiles 0\n",
      "gmake[1]: Leaving directory '/home/paul/pauld/projects/satne/llmnetwork/ns-allinone-3.36.1/ns-3.36.1/cmake-cache'\n",
      "\n",
      "\n",
      "Time:  0\n"
     ]
    },
    {
     "name": "stderr",
     "output_type": "stream",
     "text": [
      "Ns3Env parameters:\n",
      "--simulationTime: 10\n",
      "--openGymPort: 9750\n",
      "--envStepTime: 0.1\n",
      "--seed: 1660217934\n",
      "--testArg: 0\n",
      "Simulation start\n",
      "Channel: 0 CCA: 1 RxPower: -56.6436\n",
      "Channel: 1 CCA: 0 RxPower: -76.9897\n",
      "Channel: 2 CCA: 0 RxPower: -76.9897\n",
      "Channel: 3 CCA: 0 RxPower: -76.9897\n",
      "GetObservationSpace:  BoxSpace Low: 0 High: 1 Shape: (4,) Dtype: uint32_t\n",
      "GetActionSpace:  DiscreteSpace N: 4\n",
      "Simulation process id: 60312 (parent (waf shell) id: 60172)\n",
      "Waiting for Python process to connect on port: tcp://localhost:9750\n",
      "Please start proper Python Gym Agent\n",
      "MyGetObservation: [1, 0, 0, 0]\n",
      "MyGetReward: -1\n",
      "MyGetGameOver: 0\n",
      "MyGetExtraInfo: {'info': 'extra_info'}\n"
     ]
    },
    {
     "name": "stdout",
     "output_type": "stream",
     "text": [
      "LLM output: 1 0 0 0\"}\"}<|end_of_turn|>\n",
      "LLM decision:  1\n",
      "Observation:  [0 1 0 0]  Reward:  -1.0\n",
      "__________________\n",
      "\n",
      "\n",
      "Time:  1\n"
     ]
    },
    {
     "name": "stderr",
     "output_type": "stream",
     "text": [
      "Current Channel: 1\n",
      "Channel: 0 CCA: 0 RxPower: -76.9895\n",
      "Channel: 1 CCA: 1 RxPower: -56.6436\n",
      "Channel: 2 CCA: 0 RxPower: -76.9897\n",
      "Channel: 3 CCA: 0 RxPower: -76.9897\n",
      "MyGetObservation: [0, 1, 0, 0]\n",
      "MyGetReward: -1\n",
      "MyGetGameOver: 0\n",
      "MyGetExtraInfo: {'info': 'extra_info'}\n"
     ]
    },
    {
     "name": "stdout",
     "output_type": "stream",
     "text": [
      "LLM output: 0 0 1 1\"}<|end_of_turn|>\n",
      "LLM decision:  0\n",
      "Observation:  [0 0 1 0]  Reward:  1.0\n",
      "__________________\n",
      "\n",
      "\n",
      "Time:  2\n"
     ]
    },
    {
     "name": "stderr",
     "output_type": "stream",
     "text": [
      "Current Channel: 0\n",
      "Channel: 0 CCA: 0 RxPower: -76.9897\n",
      "Channel: 1 CCA: 0 RxPower: -76.9895\n",
      "Channel: 2 CCA: 1 RxPower: -56.6436\n",
      "Channel: 3 CCA: 0 RxPower: -76.9897\n",
      "MyGetObservation: [0, 0, 1, 0]\n",
      "MyGetReward: 1\n",
      "MyGetGameOver: 0\n",
      "MyGetExtraInfo: {'info': 'extra_info'}\n"
     ]
    },
    {
     "name": "stdout",
     "output_type": "stream",
     "text": [
      "LLM output: 0 0 0 1\"}\"}<|end_of_turn|>\n",
      "LLM decision:  0\n",
      "Observation:  [0 0 0 1]  Reward:  1.0\n",
      "__________________\n",
      "\n",
      "\n",
      "Time:  3\n"
     ]
    },
    {
     "name": "stderr",
     "output_type": "stream",
     "text": [
      "Current Channel: 0\n",
      "Channel: 0 CCA: 0 RxPower: -76.9897\n",
      "Channel: 1 CCA: 0 RxPower: -76.9897\n",
      "Channel: 2 CCA: 0 RxPower: -76.9895\n",
      "Channel: 3 CCA: 1 RxPower: -56.6436\n",
      "MyGetObservation: [0, 0, 0, 1]\n",
      "MyGetReward: 1\n",
      "MyGetGameOver: 0\n",
      "MyGetExtraInfo: {'info': 'extra_info'}\n"
     ]
    },
    {
     "name": "stdout",
     "output_type": "stream",
     "text": [
      "LLM output: 1 0 0 0\"}\"}<|end_of_turn|>\n",
      "LLM decision:  1\n",
      "Observation:  [1 0 0 0]  Reward:  1.0\n",
      "__________________\n",
      "\n",
      "\n",
      "Time:  4\n"
     ]
    },
    {
     "name": "stderr",
     "output_type": "stream",
     "text": [
      "Current Channel: 1\n",
      "Channel: 0 CCA: 1 RxPower: -56.6436\n",
      "Channel: 1 CCA: 0 RxPower: -76.9897\n",
      "Channel: 2 CCA: 0 RxPower: -76.9897\n",
      "Channel: 3 CCA: 0 RxPower: -76.9895\n",
      "MyGetObservation: [1, 0, 0, 0]\n",
      "MyGetReward: 1\n",
      "MyGetGameOver: 0\n",
      "MyGetExtraInfo: {'info': 'extra_info'}\n"
     ]
    },
    {
     "name": "stdout",
     "output_type": "stream",
     "text": [
      "LLM output: 1 0 0 0\"}\"}<|end_of_turn|>\n",
      "LLM decision:  1\n",
      "Observation:  [0 1 0 0]  Reward:  -1.0\n",
      "__________________\n",
      "\n",
      "\n",
      "Time:  5\n"
     ]
    },
    {
     "name": "stderr",
     "output_type": "stream",
     "text": [
      "Current Channel: 1\n",
      "Channel: 0 CCA: 0 RxPower: -76.9895\n",
      "Channel: 1 CCA: 1 RxPower: -56.6436\n",
      "Channel: 2 CCA: 0 RxPower: -76.9897\n",
      "Channel: 3 CCA: 0 RxPower: -76.9897\n",
      "MyGetObservation: [0, 1, 0, 0]\n",
      "MyGetReward: -1\n",
      "MyGetGameOver: 0\n",
      "MyGetExtraInfo: {'info': 'extra_info'}\n"
     ]
    },
    {
     "name": "stdout",
     "output_type": "stream",
     "text": [
      "LLM output: 0 1 0 0\"}\"}<|end_of_turn|>\n",
      "LLM decision:  0\n",
      "Observation:  [0 0 1 0]  Reward:  1.0\n",
      "__________________\n",
      "\n",
      "\n",
      "Time:  6\n"
     ]
    },
    {
     "name": "stderr",
     "output_type": "stream",
     "text": [
      "Current Channel: 0\n",
      "Channel: 0 CCA: 0 RxPower: -76.9897\n",
      "Channel: 1 CCA: 0 RxPower: -76.9895\n",
      "Channel: 2 CCA: 1 RxPower: -56.6436\n",
      "Channel: 3 CCA: 0 RxPower: -76.9897\n",
      "MyGetObservation: [0, 0, 1, 0]\n",
      "MyGetReward: 1\n",
      "MyGetGameOver: 0\n",
      "MyGetExtraInfo: {'info': 'extra_info'}\n"
     ]
    },
    {
     "name": "stdout",
     "output_type": "stream",
     "text": [
      "LLM output: 0 0 0 1\"}}<|end_of_turn|>\n",
      "LLM decision:  0\n",
      "Observation:  [0 0 0 1]  Reward:  1.0\n",
      "__________________\n",
      "\n",
      "\n",
      "Time:  7\n"
     ]
    },
    {
     "name": "stderr",
     "output_type": "stream",
     "text": [
      "Current Channel: 0\n",
      "Channel: 0 CCA: 0 RxPower: -76.9897\n",
      "Channel: 1 CCA: 0 RxPower: -76.9897\n",
      "Channel: 2 CCA: 0 RxPower: -76.9895\n",
      "Channel: 3 CCA: 1 RxPower: -56.6436\n",
      "MyGetObservation: [0, 0, 0, 1]\n",
      "MyGetReward: 1\n",
      "MyGetGameOver: 0\n",
      "MyGetExtraInfo: {'info': 'extra_info'}\n"
     ]
    },
    {
     "name": "stdout",
     "output_type": "stream",
     "text": [
      "LLM output: 1 0 0 0\"}\"}<|end_of_turn|>\n",
      "LLM decision:  1\n",
      "Observation:  [1 0 0 0]  Reward:  1.0\n",
      "__________________\n",
      "\n",
      "\n",
      "Time:  8\n"
     ]
    },
    {
     "name": "stderr",
     "output_type": "stream",
     "text": [
      "Current Channel: 1\n",
      "Channel: 0 CCA: 1 RxPower: -56.6436\n",
      "Channel: 1 CCA: 0 RxPower: -76.9897\n",
      "Channel: 2 CCA: 0 RxPower: -76.9897\n",
      "Channel: 3 CCA: 0 RxPower: -76.9895\n",
      "MyGetObservation: [1, 0, 0, 0]\n",
      "MyGetReward: 1\n",
      "MyGetGameOver: 0\n",
      "MyGetExtraInfo: {'info': 'extra_info'}\n"
     ]
    },
    {
     "name": "stdout",
     "output_type": "stream",
     "text": [
      "LLM output: 1 0 0 0\"}\"}<|end_of_turn|>\n",
      "LLM decision:  1\n",
      "Observation:  [0 1 0 0]  Reward:  -1.0\n",
      "__________________\n",
      "\n",
      "\n",
      "Time:  9\n"
     ]
    },
    {
     "name": "stderr",
     "output_type": "stream",
     "text": [
      "Current Channel: 1\n",
      "Channel: 0 CCA: 0 RxPower: -76.9895\n",
      "Channel: 1 CCA: 1 RxPower: -56.6436\n",
      "Channel: 2 CCA: 0 RxPower: -76.9897\n",
      "Channel: 3 CCA: 0 RxPower: -76.9897\n",
      "MyGetObservation: [0, 1, 0, 0]\n",
      "MyGetReward: -1\n",
      "MyGetGameOver: 0\n",
      "MyGetExtraInfo: {'info': 'extra_info'}\n"
     ]
    },
    {
     "name": "stdout",
     "output_type": "stream",
     "text": [
      "LLM output: 1 0 0 0\"}\"}<|end_of_turn|>\n",
      "LLM decision:  1\n",
      "Observation:  [0 0 1 0]  Reward:  1.0\n",
      "__________________\n",
      "\n",
      "\n",
      "Time:  10\n"
     ]
    },
    {
     "name": "stderr",
     "output_type": "stream",
     "text": [
      "Current Channel: 1\n",
      "Channel: 0 CCA: 0 RxPower: -76.9897\n",
      "Channel: 1 CCA: 0 RxPower: -76.9895\n",
      "Channel: 2 CCA: 1 RxPower: -56.6436\n",
      "Channel: 3 CCA: 0 RxPower: -76.9897\n",
      "MyGetObservation: [0, 0, 1, 0]\n",
      "MyGetReward: 1\n",
      "MyGetGameOver: 0\n",
      "MyGetExtraInfo: {'info': 'extra_info'}\n"
     ]
    },
    {
     "name": "stdout",
     "output_type": "stream",
     "text": [
      "LLM output: 0 0 0 1\"}}<|end_of_turn|>\n",
      "LLM decision:  0\n",
      "Observation:  [0 0 0 1]  Reward:  1.0\n",
      "__________________\n",
      "\n",
      "\n",
      "Time:  11\n"
     ]
    },
    {
     "name": "stderr",
     "output_type": "stream",
     "text": [
      "Current Channel: 0\n",
      "Channel: 0 CCA: 0 RxPower: -76.9897\n",
      "Channel: 1 CCA: 0 RxPower: -76.9897\n",
      "Channel: 2 CCA: 0 RxPower: -76.9895\n",
      "Channel: 3 CCA: 1 RxPower: -56.6436\n",
      "MyGetObservation: [0, 0, 0, 1]\n",
      "MyGetReward: 1\n",
      "MyGetGameOver: 0\n",
      "MyGetExtraInfo: {'info': 'extra_info'}\n"
     ]
    },
    {
     "name": "stdout",
     "output_type": "stream",
     "text": [
      "LLM output: 1 0 0 0\"}\"}<|end_of_turn|>\n",
      "LLM decision:  1\n",
      "Observation:  [1 0 0 0]  Reward:  1.0\n",
      "__________________\n",
      "\n",
      "\n",
      "Time:  12\n"
     ]
    },
    {
     "name": "stderr",
     "output_type": "stream",
     "text": [
      "Current Channel: 1\n",
      "Channel: 0 CCA: 1 RxPower: -56.6436\n",
      "Channel: 1 CCA: 0 RxPower: -76.9897\n",
      "Channel: 2 CCA: 0 RxPower: -76.9897\n",
      "Channel: 3 CCA: 0 RxPower: -76.9895\n",
      "MyGetObservation: [1, 0, 0, 0]\n",
      "MyGetReward: 1\n",
      "MyGetGameOver: 0\n",
      "MyGetExtraInfo: {'info': 'extra_info'}\n"
     ]
    },
    {
     "name": "stdout",
     "output_type": "stream",
     "text": [
      "LLM output: 1 0 0 0\"}\"}<|end_of_turn|>\n",
      "LLM decision:  1\n",
      "Observation:  [0 1 0 0]  Reward:  -1.0\n",
      "__________________\n",
      "\n",
      "\n",
      "Time:  13\n"
     ]
    },
    {
     "name": "stderr",
     "output_type": "stream",
     "text": [
      "Current Channel: 1\n",
      "Channel: 0 CCA: 0 RxPower: -76.9895\n",
      "Channel: 1 CCA: 1 RxPower: -56.6436\n",
      "Channel: 2 CCA: 0 RxPower: -76.9897\n",
      "Channel: 3 CCA: 0 RxPower: -76.9897\n",
      "MyGetObservation: [0, 1, 0, 0]\n",
      "MyGetReward: -1\n",
      "MyGetGameOver: 0\n",
      "MyGetExtraInfo: {'info': 'extra_info'}\n"
     ]
    },
    {
     "name": "stdout",
     "output_type": "stream",
     "text": [
      "LLM output: 0 0 1 0\"}\"}<|end_of_turn|>\n",
      "LLM decision:  0\n",
      "Observation:  [0 0 1 0]  Reward:  1.0\n",
      "__________________\n",
      "\n",
      "\n",
      "Time:  14\n"
     ]
    },
    {
     "name": "stderr",
     "output_type": "stream",
     "text": [
      "Current Channel: 0\n",
      "Channel: 0 CCA: 0 RxPower: -76.9897\n",
      "Channel: 1 CCA: 0 RxPower: -76.9895\n",
      "Channel: 2 CCA: 1 RxPower: -56.6436\n",
      "Channel: 3 CCA: 0 RxPower: -76.9897\n",
      "MyGetObservation: [0, 0, 1, 0]\n",
      "MyGetReward: 1\n",
      "MyGetGameOver: 0\n",
      "MyGetExtraInfo: {'info': 'extra_info'}\n"
     ]
    },
    {
     "name": "stdout",
     "output_type": "stream",
     "text": [
      "LLM output: 0 0 1 0\"}\"}<|end_of_turn|>\n",
      "LLM decision:  0\n",
      "Observation:  [0 0 0 1]  Reward:  1.0\n",
      "__________________\n",
      "\n",
      "\n",
      "Time:  15\n"
     ]
    },
    {
     "name": "stderr",
     "output_type": "stream",
     "text": [
      "Current Channel: 0\n",
      "Channel: 0 CCA: 0 RxPower: -76.9897\n",
      "Channel: 1 CCA: 0 RxPower: -76.9897\n",
      "Channel: 2 CCA: 0 RxPower: -76.9895\n",
      "Channel: 3 CCA: 1 RxPower: -56.6436\n",
      "MyGetObservation: [0, 0, 0, 1]\n",
      "MyGetReward: 1\n",
      "MyGetGameOver: 0\n",
      "MyGetExtraInfo: {'info': 'extra_info'}\n"
     ]
    },
    {
     "name": "stdout",
     "output_type": "stream",
     "text": [
      "LLM output: 1 0 0 0\"}\"}<|end_of_turn|>\n",
      "LLM decision:  1\n",
      "Observation:  [1 0 0 0]  Reward:  1.0\n",
      "__________________\n",
      "\n",
      "\n",
      "Time:  16\n"
     ]
    },
    {
     "name": "stderr",
     "output_type": "stream",
     "text": [
      "Current Channel: 1\n",
      "Channel: 0 CCA: 1 RxPower: -56.6436\n",
      "Channel: 1 CCA: 0 RxPower: -76.9897\n",
      "Channel: 2 CCA: 0 RxPower: -76.9897\n",
      "Channel: 3 CCA: 0 RxPower: -76.9895\n",
      "MyGetObservation: [1, 0, 0, 0]\n",
      "MyGetReward: 1\n",
      "MyGetGameOver: 0\n",
      "MyGetExtraInfo: {'info': 'extra_info'}\n"
     ]
    },
    {
     "name": "stdout",
     "output_type": "stream",
     "text": [
      "LLM output: 1 0 0 0\"}\"}<|end_of_turn|>\n",
      "LLM decision:  1\n",
      "Observation:  [0 1 0 0]  Reward:  -1.0\n",
      "__________________\n",
      "\n",
      "\n",
      "Time:  17\n"
     ]
    },
    {
     "name": "stderr",
     "output_type": "stream",
     "text": [
      "Current Channel: 1\n",
      "Channel: 0 CCA: 0 RxPower: -76.9895\n",
      "Channel: 1 CCA: 1 RxPower: -56.6436\n",
      "Channel: 2 CCA: 0 RxPower: -76.9897\n",
      "Channel: 3 CCA: 0 RxPower: -76.9897\n",
      "MyGetObservation: [0, 1, 0, 0]\n",
      "MyGetReward: -1\n",
      "MyGetGameOver: 0\n",
      "MyGetExtraInfo: {'info': 'extra_info'}\n"
     ]
    },
    {
     "name": "stdout",
     "output_type": "stream",
     "text": [
      "LLM output: 0 0 1 0\"}<|end_of_turn|>\n",
      "LLM decision:  0\n",
      "Observation:  [0 0 1 0]  Reward:  1.0\n",
      "__________________\n",
      "\n",
      "\n",
      "Time:  18\n"
     ]
    },
    {
     "name": "stderr",
     "output_type": "stream",
     "text": [
      "Current Channel: 0\n",
      "Channel: 0 CCA: 0 RxPower: -76.9897\n",
      "Channel: 1 CCA: 0 RxPower: -76.9895\n",
      "Channel: 2 CCA: 1 RxPower: -56.6436\n",
      "Channel: 3 CCA: 0 RxPower: -76.9897\n",
      "MyGetObservation: [0, 0, 1, 0]\n",
      "MyGetReward: 1\n",
      "MyGetGameOver: 0\n",
      "MyGetExtraInfo: {'info': 'extra_info'}\n"
     ]
    },
    {
     "name": "stdout",
     "output_type": "stream",
     "text": [
      "LLM output: 0 0 1 0\"}\"}<|end_of_turn|>\n",
      "LLM decision:  0\n",
      "Observation:  [0 0 0 1]  Reward:  1.0\n",
      "__________________\n",
      "\n",
      "\n",
      "Time:  19\n"
     ]
    },
    {
     "name": "stderr",
     "output_type": "stream",
     "text": [
      "Current Channel: 0\n",
      "Channel: 0 CCA: 0 RxPower: -76.9897\n",
      "Channel: 1 CCA: 0 RxPower: -76.9897\n",
      "Channel: 2 CCA: 0 RxPower: -76.9895\n",
      "Channel: 3 CCA: 1 RxPower: -56.6436\n",
      "MyGetObservation: [0, 0, 0, 1]\n",
      "MyGetReward: 1\n",
      "MyGetGameOver: 0\n",
      "MyGetExtraInfo: {'info': 'extra_info'}\n"
     ]
    },
    {
     "name": "stdout",
     "output_type": "stream",
     "text": [
      "LLM output: 1 0 0 0\"}\"}<|end_of_turn|>\n",
      "LLM decision:  1\n",
      "Observation:  [1 0 0 0]  Reward:  1.0\n",
      "__________________\n",
      "\n",
      "\n",
      "Time:  20\n"
     ]
    },
    {
     "name": "stderr",
     "output_type": "stream",
     "text": [
      "Current Channel: 1\n",
      "Channel: 0 CCA: 1 RxPower: -56.6436\n",
      "Channel: 1 CCA: 0 RxPower: -76.9897\n",
      "Channel: 2 CCA: 0 RxPower: -76.9897\n",
      "Channel: 3 CCA: 0 RxPower: -76.9895\n",
      "MyGetObservation: [1, 0, 0, 0]\n",
      "MyGetReward: 1\n",
      "MyGetGameOver: 0\n",
      "MyGetExtraInfo: {'info': 'extra_info'}\n"
     ]
    },
    {
     "name": "stdout",
     "output_type": "stream",
     "text": [
      "LLM output: 0 1 0 0\"}\"}<|end_of_turn|>\n",
      "LLM decision:  0\n",
      "Observation:  [0 1 0 0]  Reward:  1.0\n",
      "__________________\n",
      "\n",
      "\n",
      "Time:  21\n"
     ]
    },
    {
     "name": "stderr",
     "output_type": "stream",
     "text": [
      "Current Channel: 0\n",
      "Channel: 0 CCA: 0 RxPower: -76.9895\n",
      "Channel: 1 CCA: 1 RxPower: -56.6436\n",
      "Channel: 2 CCA: 0 RxPower: -76.9897\n",
      "Channel: 3 CCA: 0 RxPower: -76.9897\n",
      "MyGetObservation: [0, 1, 0, 0]\n",
      "MyGetReward: 1\n",
      "MyGetGameOver: 0\n",
      "MyGetExtraInfo: {'info': 'extra_info'}\n"
     ]
    },
    {
     "name": "stdout",
     "output_type": "stream",
     "text": [
      "LLM output: 0 0 1 0\"}<|end_of_turn|>\n",
      "LLM decision:  0\n",
      "Observation:  [0 0 1 0]  Reward:  1.0\n",
      "__________________\n",
      "\n",
      "\n",
      "Time:  22\n"
     ]
    },
    {
     "name": "stderr",
     "output_type": "stream",
     "text": [
      "Current Channel: 0\n",
      "Channel: 0 CCA: 0 RxPower: -76.9897\n",
      "Channel: 1 CCA: 0 RxPower: -76.9895\n",
      "Channel: 2 CCA: 1 RxPower: -56.6436\n",
      "Channel: 3 CCA: 0 RxPower: -76.9897\n",
      "MyGetObservation: [0, 0, 1, 0]\n",
      "MyGetReward: 1\n",
      "MyGetGameOver: 0\n",
      "MyGetExtraInfo: {'info': 'extra_info'}\n"
     ]
    },
    {
     "name": "stdout",
     "output_type": "stream",
     "text": [
      "LLM output: 0 0 0 1\"}<|end_of_turn|>\n",
      "LLM decision:  0\n",
      "Observation:  [0 0 0 1]  Reward:  1.0\n",
      "__________________\n",
      "\n",
      "\n",
      "Time:  23\n"
     ]
    },
    {
     "name": "stderr",
     "output_type": "stream",
     "text": [
      "Current Channel: 0\n",
      "Channel: 0 CCA: 0 RxPower: -76.9897\n",
      "Channel: 1 CCA: 0 RxPower: -76.9897\n",
      "Channel: 2 CCA: 0 RxPower: -76.9895\n",
      "Channel: 3 CCA: 1 RxPower: -56.6436\n",
      "MyGetObservation: [0, 0, 0, 1]\n",
      "MyGetReward: 1\n",
      "MyGetGameOver: 0\n",
      "MyGetExtraInfo: {'info': 'extra_info'}\n"
     ]
    },
    {
     "name": "stdout",
     "output_type": "stream",
     "text": [
      "LLM output: 1 0 0 0\"}\"}<|end_of_turn|>\n",
      "LLM decision:  1\n",
      "Observation:  [1 0 0 0]  Reward:  1.0\n",
      "__________________\n",
      "\n",
      "\n",
      "Time:  24\n"
     ]
    },
    {
     "name": "stderr",
     "output_type": "stream",
     "text": [
      "Current Channel: 1\n",
      "Channel: 0 CCA: 1 RxPower: -56.6436\n",
      "Channel: 1 CCA: 0 RxPower: -76.9897\n",
      "Channel: 2 CCA: 0 RxPower: -76.9897\n",
      "Channel: 3 CCA: 0 RxPower: -76.9895\n",
      "MyGetObservation: [1, 0, 0, 0]\n",
      "MyGetReward: 1\n",
      "MyGetGameOver: 0\n",
      "MyGetExtraInfo: {'info': 'extra_info'}\n"
     ]
    },
    {
     "name": "stdout",
     "output_type": "stream",
     "text": [
      "LLM output: 0 1 0 0\"}\"}<|end_of_turn|>\n",
      "LLM decision:  0\n",
      "Observation:  [0 1 0 0]  Reward:  1.0\n",
      "__________________\n",
      "\n",
      "\n",
      "Time:  25\n"
     ]
    },
    {
     "name": "stderr",
     "output_type": "stream",
     "text": [
      "Current Channel: 0\n",
      "Channel: 0 CCA: 0 RxPower: -76.9895\n",
      "Channel: 1 CCA: 1 RxPower: -56.6436\n",
      "Channel: 2 CCA: 0 RxPower: -76.9897\n",
      "Channel: 3 CCA: 0 RxPower: -76.9897\n",
      "MyGetObservation: [0, 1, 0, 0]\n",
      "MyGetReward: 1\n",
      "MyGetGameOver: 0\n",
      "MyGetExtraInfo: {'info': 'extra_info'}\n"
     ]
    },
    {
     "name": "stdout",
     "output_type": "stream",
     "text": [
      "LLM output: 0 0 1 0\"}<|end_of_turn|>\n",
      "LLM decision:  0\n",
      "Observation:  [0 0 1 0]  Reward:  1.0\n",
      "__________________\n",
      "\n",
      "\n",
      "Time:  26\n"
     ]
    },
    {
     "name": "stderr",
     "output_type": "stream",
     "text": [
      "Current Channel: 0\n",
      "Channel: 0 CCA: 0 RxPower: -76.9897\n",
      "Channel: 1 CCA: 0 RxPower: -76.9895\n",
      "Channel: 2 CCA: 1 RxPower: -56.6436\n",
      "Channel: 3 CCA: 0 RxPower: -76.9897\n",
      "MyGetObservation: [0, 0, 1, 0]\n",
      "MyGetReward: 1\n",
      "MyGetGameOver: 0\n",
      "MyGetExtraInfo: {'info': 'extra_info'}\n"
     ]
    },
    {
     "name": "stdout",
     "output_type": "stream",
     "text": [
      "LLM output: 0 0 0 1\"}\"}<|end_of_turn|>\n",
      "LLM decision:  0\n",
      "Observation:  [0 0 0 1]  Reward:  1.0\n",
      "__________________\n",
      "\n",
      "\n",
      "Time:  27\n"
     ]
    },
    {
     "name": "stderr",
     "output_type": "stream",
     "text": [
      "Current Channel: 0\n",
      "Channel: 0 CCA: 0 RxPower: -76.9897\n",
      "Channel: 1 CCA: 0 RxPower: -76.9897\n",
      "Channel: 2 CCA: 0 RxPower: -76.9895\n",
      "Channel: 3 CCA: 1 RxPower: -56.6436\n",
      "MyGetObservation: [0, 0, 0, 1]\n",
      "MyGetReward: 1\n",
      "MyGetGameOver: 0\n",
      "MyGetExtraInfo: {'info': 'extra_info'}\n"
     ]
    },
    {
     "name": "stdout",
     "output_type": "stream",
     "text": [
      "LLM output: 1 0 0 0\"}\"}<|end_of_turn|>\n",
      "LLM decision:  1\n",
      "Observation:  [1 0 0 0]  Reward:  1.0\n",
      "__________________\n",
      "\n",
      "\n",
      "Time:  28\n"
     ]
    },
    {
     "name": "stderr",
     "output_type": "stream",
     "text": [
      "Current Channel: 1\n",
      "Channel: 0 CCA: 1 RxPower: -56.6436\n",
      "Channel: 1 CCA: 0 RxPower: -76.9897\n",
      "Channel: 2 CCA: 0 RxPower: -76.9897\n",
      "Channel: 3 CCA: 0 RxPower: -76.9895\n",
      "MyGetObservation: [1, 0, 0, 0]\n",
      "MyGetReward: 1\n",
      "MyGetGameOver: 0\n",
      "MyGetExtraInfo: {'info': 'extra_info'}\n"
     ]
    },
    {
     "name": "stdout",
     "output_type": "stream",
     "text": [
      "LLM output: 0 1 0 0\"}\"}<|end_of_turn|>\n",
      "LLM decision:  0\n",
      "Observation:  [0 1 0 0]  Reward:  1.0\n",
      "__________________\n",
      "\n",
      "\n",
      "Time:  29\n"
     ]
    },
    {
     "name": "stderr",
     "output_type": "stream",
     "text": [
      "Current Channel: 0\n",
      "Channel: 0 CCA: 0 RxPower: -76.9895\n",
      "Channel: 1 CCA: 1 RxPower: -56.6436\n",
      "Channel: 2 CCA: 0 RxPower: -76.9897\n",
      "Channel: 3 CCA: 0 RxPower: -76.9897\n",
      "MyGetObservation: [0, 1, 0, 0]\n",
      "MyGetReward: 1\n",
      "MyGetGameOver: 0\n",
      "MyGetExtraInfo: {'info': 'extra_info'}\n"
     ]
    },
    {
     "name": "stdout",
     "output_type": "stream",
     "text": [
      "LLM output: 0 0 1 0\"}<|end_of_turn|>\n",
      "LLM decision:  0\n",
      "Observation:  [0 0 1 0]  Reward:  1.0\n",
      "__________________\n",
      "\n",
      "\n",
      "Time:  30\n"
     ]
    },
    {
     "name": "stderr",
     "output_type": "stream",
     "text": [
      "Current Channel: 0\n",
      "Channel: 0 CCA: 0 RxPower: -76.9897\n",
      "Channel: 1 CCA: 0 RxPower: -76.9895\n",
      "Channel: 2 CCA: 1 RxPower: -56.6436\n",
      "Channel: 3 CCA: 0 RxPower: -76.9897\n",
      "MyGetObservation: [0, 0, 1, 0]\n",
      "MyGetReward: 1\n",
      "MyGetGameOver: 0\n",
      "MyGetExtraInfo: {'info': 'extra_info'}\n"
     ]
    },
    {
     "name": "stdout",
     "output_type": "stream",
     "text": [
      "LLM output: 0 0 0 1\"}<|end_of_turn|>\n",
      "LLM decision:  0\n",
      "Observation:  [0 0 0 1]  Reward:  1.0\n",
      "__________________\n",
      "\n",
      "\n",
      "Time:  31\n"
     ]
    },
    {
     "name": "stderr",
     "output_type": "stream",
     "text": [
      "Current Channel: 0\n",
      "Channel: 0 CCA: 0 RxPower: -76.9897\n",
      "Channel: 1 CCA: 0 RxPower: -76.9897\n",
      "Channel: 2 CCA: 0 RxPower: -76.9895\n",
      "Channel: 3 CCA: 1 RxPower: -56.6436\n",
      "MyGetObservation: [0, 0, 0, 1]\n",
      "MyGetReward: 1\n",
      "MyGetGameOver: 0\n",
      "MyGetExtraInfo: {'info': 'extra_info'}\n"
     ]
    },
    {
     "name": "stdout",
     "output_type": "stream",
     "text": [
      "LLM output: 1 0 0 0\"}\"}<|end_of_turn|>\n",
      "LLM decision:  1\n",
      "Observation:  [1 0 0 0]  Reward:  1.0\n",
      "__________________\n",
      "\n",
      "\n",
      "Time:  32\n"
     ]
    },
    {
     "name": "stderr",
     "output_type": "stream",
     "text": [
      "Current Channel: 1\n",
      "Channel: 0 CCA: 1 RxPower: -56.6436\n",
      "Channel: 1 CCA: 0 RxPower: -76.9897\n",
      "Channel: 2 CCA: 0 RxPower: -76.9897\n",
      "Channel: 3 CCA: 0 RxPower: -76.9895\n",
      "MyGetObservation: [1, 0, 0, 0]\n",
      "MyGetReward: 1\n",
      "MyGetGameOver: 0\n",
      "MyGetExtraInfo: {'info': 'extra_info'}\n"
     ]
    },
    {
     "name": "stdout",
     "output_type": "stream",
     "text": [
      "LLM output: 0 1 0 0\"}\"}<|end_of_turn|>\n",
      "LLM decision:  0\n",
      "Observation:  [0 1 0 0]  Reward:  1.0\n",
      "__________________\n",
      "\n",
      "\n",
      "Time:  33\n"
     ]
    },
    {
     "name": "stderr",
     "output_type": "stream",
     "text": [
      "Current Channel: 0\n",
      "Channel: 0 CCA: 0 RxPower: -76.9895\n",
      "Channel: 1 CCA: 1 RxPower: -56.6436\n",
      "Channel: 2 CCA: 0 RxPower: -76.9897\n",
      "Channel: 3 CCA: 0 RxPower: -76.9897\n",
      "MyGetObservation: [0, 1, 0, 0]\n",
      "MyGetReward: 1\n",
      "MyGetGameOver: 0\n",
      "MyGetExtraInfo: {'info': 'extra_info'}\n"
     ]
    },
    {
     "name": "stdout",
     "output_type": "stream",
     "text": [
      "LLM output: 0 0 1 0\"}<|end_of_turn|>\n",
      "LLM decision:  0\n",
      "Observation:  [0 0 1 0]  Reward:  1.0\n",
      "__________________\n",
      "\n",
      "\n",
      "Time:  34\n"
     ]
    },
    {
     "name": "stderr",
     "output_type": "stream",
     "text": [
      "Current Channel: 0\n",
      "Channel: 0 CCA: 0 RxPower: -76.9897\n",
      "Channel: 1 CCA: 0 RxPower: -76.9895\n",
      "Channel: 2 CCA: 1 RxPower: -56.6436\n",
      "Channel: 3 CCA: 0 RxPower: -76.9897\n",
      "MyGetObservation: [0, 0, 1, 0]\n",
      "MyGetReward: 1\n",
      "MyGetGameOver: 0\n",
      "MyGetExtraInfo: {'info': 'extra_info'}\n"
     ]
    },
    {
     "name": "stdout",
     "output_type": "stream",
     "text": [
      "LLM output: 0 0 0 1\"}\"}<|end_of_turn|>\n",
      "LLM decision:  0\n",
      "Observation:  [0 0 0 1]  Reward:  1.0\n",
      "__________________\n",
      "\n",
      "\n",
      "Time:  35\n"
     ]
    },
    {
     "name": "stderr",
     "output_type": "stream",
     "text": [
      "Current Channel: 0\n",
      "Channel: 0 CCA: 0 RxPower: -76.9897\n",
      "Channel: 1 CCA: 0 RxPower: -76.9897\n",
      "Channel: 2 CCA: 0 RxPower: -76.9895\n",
      "Channel: 3 CCA: 1 RxPower: -56.6436\n",
      "MyGetObservation: [0, 0, 0, 1]\n",
      "MyGetReward: 1\n",
      "MyGetGameOver: 0\n",
      "MyGetExtraInfo: {'info': 'extra_info'}\n"
     ]
    },
    {
     "name": "stdout",
     "output_type": "stream",
     "text": [
      "LLM output: 1 0 0 0\"}\"}<|end_of_turn|>\n",
      "LLM decision:  1\n",
      "Observation:  [1 0 0 0]  Reward:  1.0\n",
      "__________________\n",
      "\n",
      "\n",
      "Time:  36\n"
     ]
    },
    {
     "name": "stderr",
     "output_type": "stream",
     "text": [
      "Current Channel: 1\n",
      "Channel: 0 CCA: 1 RxPower: -56.6436\n",
      "Channel: 1 CCA: 0 RxPower: -76.9897\n",
      "Channel: 2 CCA: 0 RxPower: -76.9897\n",
      "Channel: 3 CCA: 0 RxPower: -76.9895\n",
      "MyGetObservation: [1, 0, 0, 0]\n",
      "MyGetReward: 1\n",
      "MyGetGameOver: 0\n",
      "MyGetExtraInfo: {'info': 'extra_info'}\n"
     ]
    },
    {
     "name": "stdout",
     "output_type": "stream",
     "text": [
      "LLM output: 0 1 0 0\"}\"}<|end_of_turn|>\n",
      "LLM decision:  0\n",
      "Observation:  [0 1 0 0]  Reward:  1.0\n",
      "__________________\n",
      "\n",
      "\n",
      "Time:  37\n"
     ]
    },
    {
     "name": "stderr",
     "output_type": "stream",
     "text": [
      "Current Channel: 0\n",
      "Channel: 0 CCA: 0 RxPower: -76.9895\n",
      "Channel: 1 CCA: 1 RxPower: -56.6436\n",
      "Channel: 2 CCA: 0 RxPower: -76.9897\n",
      "Channel: 3 CCA: 0 RxPower: -76.9897\n",
      "MyGetObservation: [0, 1, 0, 0]\n",
      "MyGetReward: 1\n",
      "MyGetGameOver: 0\n",
      "MyGetExtraInfo: {'info': 'extra_info'}\n"
     ]
    },
    {
     "name": "stdout",
     "output_type": "stream",
     "text": [
      "LLM output: 0 0 1 0\"}<|end_of_turn|>\n",
      "LLM decision:  0\n",
      "Observation:  [0 0 1 0]  Reward:  1.0\n",
      "__________________\n",
      "\n",
      "\n",
      "Time:  38\n"
     ]
    },
    {
     "name": "stderr",
     "output_type": "stream",
     "text": [
      "Current Channel: 0\n",
      "Channel: 0 CCA: 0 RxPower: -76.9897\n",
      "Channel: 1 CCA: 0 RxPower: -76.9895\n",
      "Channel: 2 CCA: 1 RxPower: -56.6436\n",
      "Channel: 3 CCA: 0 RxPower: -76.9897\n",
      "MyGetObservation: [0, 0, 1, 0]\n",
      "MyGetReward: 1\n",
      "MyGetGameOver: 0\n",
      "MyGetExtraInfo: {'info': 'extra_info'}\n"
     ]
    },
    {
     "name": "stdout",
     "output_type": "stream",
     "text": [
      "LLM output: 0 0 0 1\"}\"}<|end_of_turn|>\n",
      "LLM decision:  0\n",
      "Observation:  [0 0 0 1]  Reward:  1.0\n",
      "__________________\n",
      "\n",
      "\n",
      "Time:  39\n"
     ]
    },
    {
     "name": "stderr",
     "output_type": "stream",
     "text": [
      "Current Channel: 0\n",
      "Channel: 0 CCA: 0 RxPower: -76.9897\n",
      "Channel: 1 CCA: 0 RxPower: -76.9897\n",
      "Channel: 2 CCA: 0 RxPower: -76.9895\n",
      "Channel: 3 CCA: 1 RxPower: -56.6436\n",
      "MyGetObservation: [0, 0, 0, 1]\n",
      "MyGetReward: 1\n",
      "MyGetGameOver: 0\n",
      "MyGetExtraInfo: {'info': 'extra_info'}\n"
     ]
    },
    {
     "name": "stdout",
     "output_type": "stream",
     "text": [
      "LLM output: 1 0 0 0\"}\"}<|end_of_turn|>\n",
      "LLM decision:  1\n",
      "Observation:  [1 0 0 0]  Reward:  1.0\n",
      "__________________\n"
     ]
    },
    {
     "name": "stderr",
     "output_type": "stream",
     "text": [
      "Current Channel: 1\n",
      "Channel: 0 CCA: 1 RxPower: -56.6436\n",
      "Channel: 1 CCA: 0 RxPower: -76.9897\n",
      "Channel: 2 CCA: 0 RxPower: -76.9897\n",
      "Channel: 3 CCA: 0 RxPower: -76.9895\n",
      "MyGetObservation: [1, 0, 0, 0]\n",
      "MyGetReward: 1\n",
      "MyGetGameOver: 0\n",
      "MyGetExtraInfo: {'info': 'extra_info'}\n"
     ]
    }
   ],
   "source": [
    "epsilon = 1.0               # exploration rate\n",
    "epsilon_min = 0.01\n",
    "epsilon_decay = 0.999\n",
    "\n",
    "time_history = []\n",
    "rew_history = []\n",
    "\n",
    "#total_episodes = 5\n",
    "max_env_steps = 20\n",
    "env._max_episode_steps = max_env_steps\n",
    "\n",
    "ob_space = env.observation_space\n",
    "ac_space = env.action_space\n",
    "print(\"Observation space: \", ob_space,  ob_space.dtype)\n",
    "print(\"Action space: \", ac_space, ac_space.n)\n",
    "\n",
    "s_size = ob_space.shape[0]\n",
    "a_size = ac_space.n\n",
    "total_episodes = 1\n",
    "import numpy as np\n",
    "random = False\n",
    "warm_up = 20\n",
    "\n",
    "max_env_steps = max_env_steps + warm_up\n",
    "\n",
    "reward_history = []\n",
    "time_history = []\n",
    "for e in range(total_episodes):\n",
    "\n",
    "    state = env.reset()\n",
    "    \n",
    "    state = np.reshape(state, [1, s_size])\n",
    "    \n",
    "    #print(state)\n",
    "    rewardsum = 0\n",
    "    states = []\n",
    "    add_and_pop_if_needed(states, state.squeeze(), max_length=5)\n",
    "    for time in range(max_env_steps):\n",
    "        print(\"\\n\")\n",
    "        print(\"Time: \", time)\n",
    "        if random :\n",
    "            action = np.random.randint(a_size)\n",
    "            print(\"Random Action: \", action)\n",
    "        else:\n",
    "            try: \n",
    "                action = predict_next_action(states, model, tokenizer)\n",
    "\n",
    "                print(\"LLM decision: \", action)\n",
    "\n",
    "            except: \n",
    "                print(\"Fallback to random action\")\n",
    "                action = np.random.randint(a_size)\n",
    "        # Step\n",
    "        next_state, reward, done, _ = env.step(action)\n",
    "        print(\"Observation: \", next_state, \" Reward: \", reward)\n",
    "        if done:\n",
    "            print(\"episode: {}/{}, time: {}, rew: {}, eps: {:.2}\"\n",
    "                .format(e, total_episodes, time, rewardsum, epsilon))\n",
    "            break\n",
    "        #states.append(next_state.squeeze())\n",
    "        add_and_pop_if_needed(states, next_state.squeeze(), max_length=20)\n",
    "        #next_state = np.reshape(next_state, [1, s_size])\n",
    "        \n",
    "        #state = next_state\n",
    "        print(\"__________________\")\n",
    "        if time < warm_up:\n",
    "            #print(\"lol\")\n",
    "            continue\n",
    "        rewardsum += reward\n",
    "        #print(\"Reward: \", rewardsum)\n",
    "        time_history.append(time)\n",
    "        reward_history.append(rewardsum)"
   ]
  },
  {
   "cell_type": "code",
   "execution_count": 18,
   "metadata": {},
   "outputs": [
    {
     "data": {
      "text/plain": [
       "4.0"
      ]
     },
     "execution_count": 18,
     "metadata": {},
     "output_type": "execute_result"
    }
   ],
   "source": [
    "rewardsum"
   ]
  },
  {
   "cell_type": "code",
   "execution_count": 20,
   "metadata": {},
   "outputs": [
    {
     "data": {
      "text/plain": [
       "4.0"
      ]
     },
     "execution_count": 20,
     "metadata": {},
     "output_type": "execute_result"
    }
   ],
   "source": [
    "rewardsum"
   ]
  },
  {
   "cell_type": "code",
   "execution_count": 24,
   "metadata": {},
   "outputs": [
    {
     "data": {
      "text/plain": [
       "20.0"
      ]
     },
     "execution_count": 24,
     "metadata": {},
     "output_type": "execute_result"
    }
   ],
   "source": [
    "rewardsum"
   ]
  },
  {
   "cell_type": "code",
   "execution_count": 17,
   "metadata": {},
   "outputs": [
    {
     "data": {
      "text/plain": [
       "[1.0,\n",
       " 2.0,\n",
       " 3.0,\n",
       " 4.0,\n",
       " 3.0,\n",
       " 4.0,\n",
       " 5.0,\n",
       " 6.0,\n",
       " 5.0,\n",
       " 6.0,\n",
       " 7.0,\n",
       " 8.0,\n",
       " 7.0,\n",
       " 8.0,\n",
       " 9.0,\n",
       " 10.0,\n",
       " 11.0,\n",
       " 12.0,\n",
       " 11.0,\n",
       " 12.0]"
      ]
     },
     "execution_count": 17,
     "metadata": {},
     "output_type": "execute_result"
    }
   ],
   "source": [
    "reward_history"
   ]
  },
  {
   "cell_type": "code",
   "execution_count": 22,
   "metadata": {},
   "outputs": [
    {
     "data": {
      "image/png": "[encoded data removed]",
      "text/plain": [
       "<Figure size 800x400 with 1 Axes>"
      ]
     },
     "metadata": {},
     "output_type": "display_data"
    }
   ],
   "source": [
    "import matplotlib.pyplot as plt\n",
    "\n",
    "# Example data\n",
    "x = [20, 21, 22, 23, 24, 25, 26, 27, 28, 29, 30, 31, 32, 33, 34, 35, 36, 37, 38, 39]  # Common x-axis values\n",
    "y_llm = [1.0, 2.0, 3.0, 4.0, 5.0, 6.0, 7.0, 8.0, 9.0, 10.0, 11.0, 12.0, 13.0, 14.0, 15.0, 16.0, 17.0, 18.0, 19.0, 20.0]  # Data row 1\n",
    "y_random = [1.0, 2.0, 3.0, 4.0, 3.0, 4.0, 5.0, 6.0, 5.0, 6.0, 7.0, 8.0, 7.0, 8.0, 9.0, 10.0, 11.0, 12.0, 11.0, 12.0]  # Data row 2\n",
    "\n",
    "# Create a figure and an axes.\n",
    "plt.figure(figsize=(8, 4))\n",
    "plt.plot(x, y_llm, label='LLM Agent')  # Plot the first line with label\n",
    "plt.plot(x, y_random, label='Random Policy')  # Plot the second line with label\n",
    "\n",
    "# Adding title and labels\n",
    "plt.title('Comparison of Random and LLM Agent')\n",
    "plt.xlabel('Time Steps')\n",
    "plt.ylabel('Reward')\n",
    "\n",
    "# Show legend\n",
    "plt.legend()\n",
    "\n",
    "# Show the plot\n",
    "plt.show()\n"
   ]
  },
  {
   "cell_type": "code",
   "execution_count": 20,
   "metadata": {},
   "outputs": [],
   "source": [
    "#!pip install matplotlib"
   ]
  },
  {
   "cell_type": "code",
   "execution_count": 11,
   "metadata": {},
   "outputs": [
    {
     "data": {
      "text/plain": [
       "[20,\n",
       " 21,\n",
       " 22,\n",
       " 23,\n",
       " 24,\n",
       " 25,\n",
       " 26,\n",
       " 27,\n",
       " 28,\n",
       " 29,\n",
       " 30,\n",
       " 31,\n",
       " 32,\n",
       " 33,\n",
       " 34,\n",
       " 35,\n",
       " 36,\n",
       " 37,\n",
       " 38,\n",
       " 39]"
      ]
     },
     "execution_count": 11,
     "metadata": {},
     "output_type": "execute_result"
    }
   ],
   "source": [
    "time_history"
   ]
  },
  {
   "cell_type": "markdown",
   "metadata": {},
   "source": [
    "### "
   ]
  },
  {
   "cell_type": "code",
   "execution_count": 26,
   "metadata": {},
   "outputs": [
    {
     "data": {
      "text/plain": [
       "10.0"
      ]
     },
     "execution_count": 26,
     "metadata": {},
     "output_type": "execute_result"
    }
   ],
   "source": [
    "rewardsum"
   ]
  },
  {
   "cell_type": "code",
   "execution_count": 13,
   "metadata": {},
   "outputs": [
    {
     "data": {
      "text/plain": [
       "20.0"
      ]
     },
     "execution_count": 13,
     "metadata": {},
     "output_type": "execute_result"
    }
   ],
   "source": [
    "rewardsum"
   ]
  }
 ],
 "metadata": {
  "kernelspec": {
   "display_name": "llmagent",
   "language": "python",
   "name": "python3"
  },
  "language_info": {
   "codemirror_mode": {
    "name": "ipython",
    "version": 3
   },
   "file_extension": ".py",
   "mimetype": "text/x-python",
   "name": "python",
   "nbconvert_exporter": "python",
   "pygments_lexer": "ipython3",
   "version": "3.12.2"
  }
 },
 "nbformat": 4,
 "nbformat_minor": 2
}
